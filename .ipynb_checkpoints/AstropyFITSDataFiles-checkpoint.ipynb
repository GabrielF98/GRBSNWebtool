{
 "cells": [
  {
   "cell_type": "code",
   "execution_count": 27,
   "id": "e845239f",
   "metadata": {},
   "outputs": [],
   "source": [
    "import numpy as np\n",
    "from astropy.table import Table\n",
    "from astropy.io import fits"
   ]
  },
  {
   "cell_type": "code",
   "execution_count": 33,
   "id": "34652ed7",
   "metadata": {},
   "outputs": [],
   "source": [
    "hdr = fits.Header()\n",
    "hdr['OBJECT'] = 'GRB111228A'\n",
    "hdr['LINK'] = \"https://iopscience.iop.org/article/10.3847/0004-637X/817/2/152\"\n",
    "empty_primary = fits.PrimaryHDU(header=hdr)"
   ]
  },
  {
   "cell_type": "code",
   "execution_count": 32,
   "id": "3c3cc2f5",
   "metadata": {},
   "outputs": [
    {
     "data": {
      "text/plain": [
       "OBJECT  = 'GRB111228A'                                                          \n",
       "LINK    = 'https://iopscience.iop.org/article/10.3847/0004-637X/817/2/152'      "
      ]
     },
     "execution_count": 32,
     "metadata": {},
     "output_type": "execute_result"
    }
   ],
   "source": [
    "hdr"
   ]
  },
  {
   "cell_type": "code",
   "execution_count": 43,
   "id": "ab734efd",
   "metadata": {
    "scrolled": false
   },
   "outputs": [
    {
     "data": {
      "text/html": [
       "<i>Table length=229</i>\n",
       "<table id=\"table140373094063504\" class=\"table-striped table-bordered table-condensed\">\n",
       "<thead><tr><th>$T-T0$ (mid, hr)</th><th>Exposure (s)</th><th>Mag</th><th>sigma</th><th>Filter</th><th>Telescope</th></tr></thead>\n",
       "<thead><tr><th>float64</th><th>float64</th><th>float64</th><th>float64</th><th>str6</th><th>str7</th></tr></thead>\n",
       "<tr><td>0.0292</td><td>20.0</td><td>16.297</td><td>0.081</td><td>W</td><td>TNT</td></tr>\n",
       "<tr><td>0.0356</td><td>20.0</td><td>17.115</td><td>0.149</td><td>W</td><td>TNT</td></tr>\n",
       "<tr><td>0.0422</td><td>20.0</td><td>17.285</td><td>0.145</td><td>W</td><td>TNT</td></tr>\n",
       "<tr><td>0.0484</td><td>20.0</td><td>16.98</td><td>0.119</td><td>W</td><td>TNT</td></tr>\n",
       "<tr><td>0.0547</td><td>20.0</td><td>16.995</td><td>0.112</td><td>W</td><td>TNT</td></tr>\n",
       "<tr><td>0.0611</td><td>20.0</td><td>16.93</td><td>0.095</td><td>W</td><td>TNT</td></tr>\n",
       "<tr><td>0.0675</td><td>20.0</td><td>16.904</td><td>0.123</td><td>W</td><td>TNT</td></tr>\n",
       "<tr><td>0.0736</td><td>20.0</td><td>16.817</td><td>0.115</td><td>W</td><td>TNT</td></tr>\n",
       "<tr><td>0.078</td><td>20.0</td><td>16.897</td><td>0.103</td><td>W</td><td>TNT</td></tr>\n",
       "<tr><td>0.0864</td><td>20.0</td><td>16.805</td><td>0.091</td><td>W</td><td>TNT</td></tr>\n",
       "<tr><td>...</td><td>...</td><td>...</td><td>...</td><td>...</td><td>...</td></tr>\n",
       "<tr><td>21.2489</td><td>29.5</td><td>17.28</td><td>0.025</td><td>K</td><td>CFHT</td></tr>\n",
       "<tr><td>21.3046</td><td>29.5</td><td>17.298</td><td>0.024</td><td>K</td><td>CFHT</td></tr>\n",
       "<tr><td>21.3614</td><td>29.5</td><td>17.229</td><td>0.024</td><td>K</td><td>CFHT</td></tr>\n",
       "<tr><td>21.4169</td><td>29.5</td><td>17.295</td><td>0.026</td><td>K</td><td>CFHT</td></tr>\n",
       "<tr><td>21.473</td><td>29.5</td><td>17.26</td><td>0.027</td><td>K</td><td>CFHT</td></tr>\n",
       "<tr><td>21.5304</td><td>29.5</td><td>17.271</td><td>0.025</td><td>K</td><td>CFHT</td></tr>\n",
       "<tr><td>21.6986</td><td>29.5</td><td>17.306</td><td>0.024</td><td>K</td><td>CFHT</td></tr>\n",
       "<tr><td>21.7541</td><td>29.5</td><td>17.27</td><td>0.024</td><td>K</td><td>CFHT</td></tr>\n",
       "<tr><td>21.811</td><td>29.5</td><td>17.278</td><td>0.023</td><td>K</td><td>CFHT</td></tr>\n",
       "<tr><td>21.8662</td><td>29.5</td><td>17.328</td><td>0.025</td><td>K</td><td>CFHT</td></tr>\n",
       "</table>"
      ],
      "text/plain": [
       "<Table length=229>\n",
       "$T-T0$ (mid, hr) Exposure (s)   Mag    sigma  Filter Telescope\n",
       "    float64        float64    float64 float64  str6     str7  \n",
       "---------------- ------------ ------- ------- ------ ---------\n",
       "          0.0292         20.0  16.297   0.081      W       TNT\n",
       "          0.0356         20.0  17.115   0.149      W       TNT\n",
       "          0.0422         20.0  17.285   0.145      W       TNT\n",
       "          0.0484         20.0   16.98   0.119      W       TNT\n",
       "          0.0547         20.0  16.995   0.112      W       TNT\n",
       "          0.0611         20.0   16.93   0.095      W       TNT\n",
       "          0.0675         20.0  16.904   0.123      W       TNT\n",
       "          0.0736         20.0  16.817   0.115      W       TNT\n",
       "           0.078         20.0  16.897   0.103      W       TNT\n",
       "          0.0864         20.0  16.805   0.091      W       TNT\n",
       "             ...          ...     ...     ...    ...       ...\n",
       "         21.2489         29.5   17.28   0.025      K      CFHT\n",
       "         21.3046         29.5  17.298   0.024      K      CFHT\n",
       "         21.3614         29.5  17.229   0.024      K      CFHT\n",
       "         21.4169         29.5  17.295   0.026      K      CFHT\n",
       "          21.473         29.5   17.26   0.027      K      CFHT\n",
       "         21.5304         29.5  17.271   0.025      K      CFHT\n",
       "         21.6986         29.5  17.306   0.024      K      CFHT\n",
       "         21.7541         29.5   17.27   0.024      K      CFHT\n",
       "          21.811         29.5  17.278   0.023      K      CFHT\n",
       "         21.8662         29.5  17.328   0.025      K      CFHT"
      ]
     },
     "execution_count": 43,
     "metadata": {},
     "output_type": "execute_result"
    }
   ],
   "source": [
    "#Reading from a html\n",
    "t = Table.read('Optical111228A.txt', format='ascii', header_start=2, data_start=3, data_end=-1, delimiter='\\t')\n",
    "\n",
    "#Write to fits\n"
   ]
  },
  {
   "cell_type": "code",
   "execution_count": null,
   "id": "dcdef9c7",
   "metadata": {},
   "outputs": [],
   "source": []
  }
 ],
 "metadata": {
  "kernelspec": {
   "display_name": "Python 3",
   "language": "python",
   "name": "python3"
  },
  "language_info": {
   "codemirror_mode": {
    "name": "ipython",
    "version": 3
   },
   "file_extension": ".py",
   "mimetype": "text/x-python",
   "name": "python",
   "nbconvert_exporter": "python",
   "pygments_lexer": "ipython3",
   "version": "3.8.10"
  }
 },
 "nbformat": 4,
 "nbformat_minor": 5
}

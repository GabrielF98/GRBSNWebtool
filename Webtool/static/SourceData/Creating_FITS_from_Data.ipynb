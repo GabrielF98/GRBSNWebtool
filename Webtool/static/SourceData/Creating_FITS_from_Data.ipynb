{
 "cells": [
  {
   "cell_type": "code",
   "execution_count": 1,
   "id": "f3c2e7e8",
   "metadata": {},
   "outputs": [],
   "source": [
    "import numpy as np\n",
    "from astropy.io import ascii, fits\n",
    "import pandas as pd"
   ]
  },
  {
   "cell_type": "markdown",
   "id": "64ced669",
   "metadata": {},
   "source": [
    "# Reading HTML table files"
   ]
  },
  {
   "cell_type": "code",
   "execution_count": 2,
   "id": "68e97d72",
   "metadata": {},
   "outputs": [],
   "source": [
    "file='GRB161219B-2016jca/GRB161219B-2016jca_Optical1.html'"
   ]
  },
  {
   "cell_type": "code",
   "execution_count": 3,
   "id": "3850752f",
   "metadata": {
    "scrolled": true
   },
   "outputs": [
    {
     "name": "stdout",
     "output_type": "stream",
     "text": [
      "1\n",
      "57744.08\n"
     ]
    },
    {
     "data": {
      "text/html": [
       "<i>Table length=29</i>\n",
       "<table id=\"table140281638594784\" class=\"table-striped table-bordered table-condensed\">\n",
       "<thead><tr><th>MJD\n",
       "            .</th><th>B\n",
       "            .</th><th>V\n",
       "            .</th><th>R\n",
       "            .</th><th>I\n",
       "            .</th><th>g\n",
       "            .</th><th>r\n",
       "            .</th><th>i\n",
       "            .</th><th>Telescope\n",
       "            .</th></tr></thead>\n",
       "<thead><tr><th>float64</th><th>str12</th><th>str12</th><th>str12</th><th>str12</th><th>str12</th><th>str13</th><th>str12</th><th>str4</th></tr></thead>\n",
       "<tr><td>57744.08</td><td>19.83 ± 0.01</td><td>19.66 ± 0.01</td><td>19.39 ± 0.01</td><td>18.89 ± 0.00</td><td>–</td><td>–</td><td>–</td><td>VLT</td></tr>\n",
       "<tr><td>57746.08</td><td>20.04 ± 0.01</td><td>19.84 ± 0.01</td><td>19.74 ± 0.01</td><td>19.33 ± 0.01</td><td>–</td><td>–</td><td>–</td><td>VLT</td></tr>\n",
       "<tr><td>57748.12</td><td>20.24 ± 0.01</td><td>19.82 ± 0.01</td><td>19.73 ± 0.01</td><td>19.48 ± 0.01</td><td>–</td><td>–</td><td>–</td><td>VLT</td></tr>\n",
       "<tr><td>57749.03</td><td>20.21 ± 0.03</td><td>19.65 ± 0.10</td><td>19.53 ± 0.02</td><td>19.35 ± 0.05</td><td>–</td><td>–</td><td>–</td><td>TNG</td></tr>\n",
       "<tr><td>57749.99</td><td>20.18 ± 0.13</td><td>19.8 ± 0.2</td><td>–</td><td>–</td><td>19.81 ± 0.05</td><td>19.63 ± 0.07</td><td>19.80 ± 0.03</td><td>LT</td></tr>\n",
       "<tr><td>57750.0</td><td>–</td><td>19.8 ± 0.2</td><td>–</td><td>–</td><td>19.80 ± 0.05</td><td>19.63 ± 0.07</td><td>19.80 ± 0.03</td><td>LT</td></tr>\n",
       "<tr><td>57751.09</td><td>20.46 ± 0.01</td><td>19.79 ± 0.01</td><td>19.64 ± 0.01</td><td>19.44 ± 0.01</td><td>–</td><td>–</td><td>–</td><td>VLT</td></tr>\n",
       "<tr><td>57751.98</td><td>–</td><td>19.63 ± 0.05</td><td>–</td><td>–</td><td>19.92 ± 0.05</td><td>19.54 ± 0.09</td><td>19.76 ± 0.08</td><td>LT</td></tr>\n",
       "<tr><td>57751.99</td><td>–</td><td>19.63 ± 0.05</td><td>–</td><td>–</td><td>19.92 ± 0.05</td><td>19.54 ± 0.09</td><td>19.75 ± 0.08</td><td>LT</td></tr>\n",
       "<tr><td>57753.99</td><td>20.52 ± 0.21</td><td>19.77 ± 0.06</td><td>19.43 ± 0.06</td><td>19.35 ± 0.12</td><td>–</td><td>–</td><td>–</td><td>TNG</td></tr>\n",
       "<tr><td>...</td><td>...</td><td>...</td><td>...</td><td>...</td><td>...</td><td>...</td><td>...</td><td>...</td></tr>\n",
       "<tr><td>57763.26</td><td>21.58 ± 0.06</td><td>20.33 ± 0.02</td><td>19.73 ± 0.01</td><td>19.47 ± 0.01</td><td>–</td><td>–</td><td>–</td><td>VLT</td></tr>\n",
       "<tr><td>57767.17</td><td>–</td><td>20.51 ± 0.03</td><td>19.97 ± 0.02</td><td>19.61 ± 0.02</td><td>–</td><td>–</td><td>–</td><td>VLT</td></tr>\n",
       "<tr><td>57769.98</td><td>–</td><td>–</td><td>–</td><td>–</td><td>–</td><td>20.35 ± 0.05</td><td>20.05 ± 0.02</td><td>LT</td></tr>\n",
       "<tr><td>57770.91</td><td>–</td><td>–</td><td>–</td><td>–</td><td>–</td><td>20.33 ± 0.04</td><td>20.11 ± 0.02</td><td>LT</td></tr>\n",
       "<tr><td>57772.04</td><td>21.98 ± 0.01</td><td>20.93 ± 0.01</td><td>20.25 ± 0.01</td><td>19.82 ± 0.01</td><td>–</td><td>–</td><td>–</td><td>VLT</td></tr>\n",
       "<tr><td>57772.91</td><td>–</td><td>–</td><td>–</td><td>–</td><td>–</td><td>20.50 ± 0.042</td><td>20.22 ± 0.02</td><td>LT</td></tr>\n",
       "<tr><td>57778.88</td><td>–</td><td>–</td><td>–</td><td>–</td><td>–</td><td>20.52 ± 0.07</td><td>20.27 ± 0.03</td><td>LT</td></tr>\n",
       "<tr><td>57779.22</td><td>22.17 ± 0.02</td><td>21.23 ± 0.02</td><td>20.56 ± 0.01</td><td>20.08 ± 0.01</td><td>–</td><td>–</td><td>–</td><td>VLT</td></tr>\n",
       "<tr><td>57779.92</td><td>–</td><td>–</td><td>–</td><td>–</td><td>–</td><td>20.73 ± 0.03</td><td>20.45 ± 0.03</td><td>LT</td></tr>\n",
       "<tr><td>57836.04</td><td>22.64 ± 0.03</td><td>–</td><td>21.24 ± 0.01</td><td>–</td><td>–</td><td>–</td><td>–</td><td>VLT</td></tr>\n",
       "</table>"
      ],
      "text/plain": [
       "<Table length=29>\n",
       "MJD\n",
       "            . B\n",
       "            . ... i\n",
       "            . Telescope\n",
       "            .\n",
       "     float64           str12      ...      str12                str4         \n",
       "----------------- --------------- ... --------------- -----------------------\n",
       "         57744.08    19.83 ± 0.01 ...               –                     VLT\n",
       "         57746.08    20.04 ± 0.01 ...               –                     VLT\n",
       "         57748.12    20.24 ± 0.01 ...               –                     VLT\n",
       "         57749.03    20.21 ± 0.03 ...               –                     TNG\n",
       "         57749.99    20.18 ± 0.13 ...    19.80 ± 0.03                      LT\n",
       "          57750.0               – ...    19.80 ± 0.03                      LT\n",
       "         57751.09    20.46 ± 0.01 ...               –                     VLT\n",
       "         57751.98               – ...    19.76 ± 0.08                      LT\n",
       "         57751.99               – ...    19.75 ± 0.08                      LT\n",
       "         57753.99    20.52 ± 0.21 ...               –                     TNG\n",
       "              ...             ... ...             ...                     ...\n",
       "         57763.26    21.58 ± 0.06 ...               –                     VLT\n",
       "         57767.17               – ...               –                     VLT\n",
       "         57769.98               – ...    20.05 ± 0.02                      LT\n",
       "         57770.91               – ...    20.11 ± 0.02                      LT\n",
       "         57772.04    21.98 ± 0.01 ...               –                     VLT\n",
       "         57772.91               – ...    20.22 ± 0.02                      LT\n",
       "         57778.88               – ...    20.27 ± 0.03                      LT\n",
       "         57779.22    22.17 ± 0.02 ...               –                     VLT\n",
       "         57779.92               – ...    20.45 ± 0.03                      LT\n",
       "         57836.04    22.64 ± 0.03 ...               –                     VLT"
      ]
     },
     "execution_count": 3,
     "metadata": {},
     "output_type": "execute_result"
    }
   ],
   "source": [
    "def check_float(potential_float):\n",
    "    try:\n",
    "        float(potential_float) #Try to convert argument into a float\n",
    "        return True\n",
    "    except ValueError:\n",
    "        return False\n",
    "\n",
    "n=0\n",
    "k=-1\n",
    "for i in range(0, 6):\n",
    "    #Read in the file changing where the data starts\n",
    "    data = ascii.read(file, format='html', data_start=i)\n",
    "    \n",
    "    \n",
    "    #find the first row that has a column value that works as a float\n",
    "    for j in range(len(data.columns)):\n",
    "        if check_float(data[0][j])==True:\n",
    "            print(i)\n",
    "            print(data[0][j])\n",
    "            k = i\n",
    "            break\n",
    "    if k==i:\n",
    "        break\n",
    "    n=i\n",
    "    \n",
    "#Get the actual data with the correct data start value    \n",
    "data = ascii.read(file, format='html', data_start=k)\n",
    "data"
   ]
  },
  {
   "cell_type": "markdown",
   "id": "03b03593",
   "metadata": {},
   "source": [
    "# Cleaning up the data"
   ]
  },
  {
   "cell_type": "code",
   "execution_count": 9,
   "id": "e5e5d602",
   "metadata": {
    "scrolled": true
   },
   "outputs": [
    {
     "name": "stderr",
     "output_type": "stream",
     "text": [
      "<ipython-input-9-9e5679632a41>:1: DeprecationWarning: `np.float` is a deprecated alias for the builtin `float`. To silence this warning, use `float` by itself. Doing this will not modify any behavior and is safe. If you specifically wanted the numpy scalar type, use `np.float64` here.\n",
      "Deprecated in NumPy 1.20; for more details and guidance: https://numpy.org/devdocs/release/1.20.0-notes.html#deprecations\n",
      "  np.float('-')\n"
     ]
    },
    {
     "ename": "ValueError",
     "evalue": "could not convert string to float: '-'",
     "output_type": "error",
     "traceback": [
      "\u001b[0;31m---------------------------------------------------------------------------\u001b[0m",
      "\u001b[0;31mValueError\u001b[0m                                Traceback (most recent call last)",
      "\u001b[0;32m<ipython-input-9-9e5679632a41>\u001b[0m in \u001b[0;36m<module>\u001b[0;34m\u001b[0m\n\u001b[0;32m----> 1\u001b[0;31m \u001b[0mnp\u001b[0m\u001b[0;34m.\u001b[0m\u001b[0mfloat\u001b[0m\u001b[0;34m(\u001b[0m\u001b[0;34m'-'\u001b[0m\u001b[0;34m)\u001b[0m\u001b[0;34m\u001b[0m\u001b[0;34m\u001b[0m\u001b[0m\n\u001b[0m",
      "\u001b[0;31mValueError\u001b[0m: could not convert string to float: '-'"
     ]
    }
   ],
   "source": [
    "# Need a way to make the columns that should be floats into floats\n",
    "def pm_remover(table): #Should separate columns containing ± into data and error\n",
    "    num_cols = len(table.columns)\n",
    "    if isinstance(table[i][0]): #Check if theres a string in column i row 0\n",
    "        if '±' in table[i][0]:\n",
    "            for i in range(num_cols):\n",
    "                sepd_data = table[i][0].split('±') #Separate the data if theres a ±\n",
    "                "
   ]
  },
  {
   "cell_type": "code",
   "execution_count": 12,
   "id": "bf9e7a7c",
   "metadata": {},
   "outputs": [
    {
     "data": {
      "text/html": [
       "&lt;Column name=&apos;MJD\\n            .&apos; dtype=&apos;float64&apos; length=29&gt;\n",
       "<table>\n",
       "<tr><td>57744.08</td></tr>\n",
       "<tr><td>57746.08</td></tr>\n",
       "<tr><td>57748.12</td></tr>\n",
       "<tr><td>57749.03</td></tr>\n",
       "<tr><td>57749.99</td></tr>\n",
       "<tr><td>57750.0</td></tr>\n",
       "<tr><td>57751.09</td></tr>\n",
       "<tr><td>57751.98</td></tr>\n",
       "<tr><td>57751.99</td></tr>\n",
       "<tr><td>57753.99</td></tr>\n",
       "<tr><td>57754.28</td></tr>\n",
       "<tr><td>57756.36</td></tr>\n",
       "<tr><td>...</td></tr>\n",
       "<tr><td>57758.96</td></tr>\n",
       "<tr><td>57760.06</td></tr>\n",
       "<tr><td>57763.26</td></tr>\n",
       "<tr><td>57767.17</td></tr>\n",
       "<tr><td>57769.98</td></tr>\n",
       "<tr><td>57770.91</td></tr>\n",
       "<tr><td>57772.04</td></tr>\n",
       "<tr><td>57772.91</td></tr>\n",
       "<tr><td>57778.88</td></tr>\n",
       "<tr><td>57779.22</td></tr>\n",
       "<tr><td>57779.92</td></tr>\n",
       "<tr><td>57836.04</td></tr>\n",
       "</table>"
      ],
      "text/plain": [
       "<Column name='MJD\\n            .' dtype='float64' length=29>\n",
       "57744.08\n",
       "57746.08\n",
       "57748.12\n",
       "57749.03\n",
       "57749.99\n",
       " 57750.0\n",
       "57751.09\n",
       "57751.98\n",
       "57751.99\n",
       "57753.99\n",
       "57754.28\n",
       "57756.36\n",
       "     ...\n",
       "57758.96\n",
       "57760.06\n",
       "57763.26\n",
       "57767.17\n",
       "57769.98\n",
       "57770.91\n",
       "57772.04\n",
       "57772.91\n",
       "57778.88\n",
       "57779.22\n",
       "57779.92\n",
       "57836.04"
      ]
     },
     "execution_count": 12,
     "metadata": {},
     "output_type": "execute_result"
    }
   ],
   "source": [
    "data.columns[0]"
   ]
  },
  {
   "cell_type": "markdown",
   "id": "6cafccfb",
   "metadata": {},
   "source": [
    "# Making FITS files from table objects"
   ]
  },
  {
   "cell_type": "code",
   "execution_count": 8,
   "id": "1c323f87",
   "metadata": {},
   "outputs": [
    {
     "name": "stderr",
     "output_type": "stream",
     "text": [
      "WARNING: AstropyDeprecationWarning: GRB161219B-2016jca.fits already exists. Automatically overwriting ASCII files is deprecated. Use the argument 'overwrite=True' in the future. [astropy.io.ascii.ui]\n"
     ]
    }
   ],
   "source": [
    "data.write('GRB161219B-2016jca.fits', format='html')"
   ]
  },
  {
   "cell_type": "code",
   "execution_count": 6,
   "id": "77b32d25",
   "metadata": {},
   "outputs": [
    {
     "data": {
      "text/html": [
       "<i>Table length=29</i>\n",
       "<table id=\"table140281638596272\" class=\"table-striped table-bordered table-condensed\">\n",
       "<thead><tr><th>MJD\n",
       "            .</th><th>B\n",
       "            .</th><th>V\n",
       "            .</th><th>R\n",
       "            .</th><th>I\n",
       "            .</th><th>g\n",
       "            .</th><th>r\n",
       "            .</th><th>i\n",
       "            .</th><th>Telescope\n",
       "            .</th></tr></thead>\n",
       "<thead><tr><th>float64</th><th>str12</th><th>str12</th><th>str12</th><th>str12</th><th>str12</th><th>str13</th><th>str12</th><th>str4</th></tr></thead>\n",
       "<tr><td>57744.08</td><td>19.83 ± 0.01</td><td>19.66 ± 0.01</td><td>19.39 ± 0.01</td><td>18.89 ± 0.00</td><td>–</td><td>–</td><td>–</td><td>VLT</td></tr>\n",
       "<tr><td>57746.08</td><td>20.04 ± 0.01</td><td>19.84 ± 0.01</td><td>19.74 ± 0.01</td><td>19.33 ± 0.01</td><td>–</td><td>–</td><td>–</td><td>VLT</td></tr>\n",
       "<tr><td>57748.12</td><td>20.24 ± 0.01</td><td>19.82 ± 0.01</td><td>19.73 ± 0.01</td><td>19.48 ± 0.01</td><td>–</td><td>–</td><td>–</td><td>VLT</td></tr>\n",
       "<tr><td>57749.03</td><td>20.21 ± 0.03</td><td>19.65 ± 0.10</td><td>19.53 ± 0.02</td><td>19.35 ± 0.05</td><td>–</td><td>–</td><td>–</td><td>TNG</td></tr>\n",
       "<tr><td>57749.99</td><td>20.18 ± 0.13</td><td>19.8 ± 0.2</td><td>–</td><td>–</td><td>19.81 ± 0.05</td><td>19.63 ± 0.07</td><td>19.80 ± 0.03</td><td>LT</td></tr>\n",
       "<tr><td>57750.0</td><td>–</td><td>19.8 ± 0.2</td><td>–</td><td>–</td><td>19.80 ± 0.05</td><td>19.63 ± 0.07</td><td>19.80 ± 0.03</td><td>LT</td></tr>\n",
       "<tr><td>57751.09</td><td>20.46 ± 0.01</td><td>19.79 ± 0.01</td><td>19.64 ± 0.01</td><td>19.44 ± 0.01</td><td>–</td><td>–</td><td>–</td><td>VLT</td></tr>\n",
       "<tr><td>57751.98</td><td>–</td><td>19.63 ± 0.05</td><td>–</td><td>–</td><td>19.92 ± 0.05</td><td>19.54 ± 0.09</td><td>19.76 ± 0.08</td><td>LT</td></tr>\n",
       "<tr><td>57751.99</td><td>–</td><td>19.63 ± 0.05</td><td>–</td><td>–</td><td>19.92 ± 0.05</td><td>19.54 ± 0.09</td><td>19.75 ± 0.08</td><td>LT</td></tr>\n",
       "<tr><td>57753.99</td><td>20.52 ± 0.21</td><td>19.77 ± 0.06</td><td>19.43 ± 0.06</td><td>19.35 ± 0.12</td><td>–</td><td>–</td><td>–</td><td>TNG</td></tr>\n",
       "<tr><td>...</td><td>...</td><td>...</td><td>...</td><td>...</td><td>...</td><td>...</td><td>...</td><td>...</td></tr>\n",
       "<tr><td>57763.26</td><td>21.58 ± 0.06</td><td>20.33 ± 0.02</td><td>19.73 ± 0.01</td><td>19.47 ± 0.01</td><td>–</td><td>–</td><td>–</td><td>VLT</td></tr>\n",
       "<tr><td>57767.17</td><td>–</td><td>20.51 ± 0.03</td><td>19.97 ± 0.02</td><td>19.61 ± 0.02</td><td>–</td><td>–</td><td>–</td><td>VLT</td></tr>\n",
       "<tr><td>57769.98</td><td>–</td><td>–</td><td>–</td><td>–</td><td>–</td><td>20.35 ± 0.05</td><td>20.05 ± 0.02</td><td>LT</td></tr>\n",
       "<tr><td>57770.91</td><td>–</td><td>–</td><td>–</td><td>–</td><td>–</td><td>20.33 ± 0.04</td><td>20.11 ± 0.02</td><td>LT</td></tr>\n",
       "<tr><td>57772.04</td><td>21.98 ± 0.01</td><td>20.93 ± 0.01</td><td>20.25 ± 0.01</td><td>19.82 ± 0.01</td><td>–</td><td>–</td><td>–</td><td>VLT</td></tr>\n",
       "<tr><td>57772.91</td><td>–</td><td>–</td><td>–</td><td>–</td><td>–</td><td>20.50 ± 0.042</td><td>20.22 ± 0.02</td><td>LT</td></tr>\n",
       "<tr><td>57778.88</td><td>–</td><td>–</td><td>–</td><td>–</td><td>–</td><td>20.52 ± 0.07</td><td>20.27 ± 0.03</td><td>LT</td></tr>\n",
       "<tr><td>57779.22</td><td>22.17 ± 0.02</td><td>21.23 ± 0.02</td><td>20.56 ± 0.01</td><td>20.08 ± 0.01</td><td>–</td><td>–</td><td>–</td><td>VLT</td></tr>\n",
       "<tr><td>57779.92</td><td>–</td><td>–</td><td>–</td><td>–</td><td>–</td><td>20.73 ± 0.03</td><td>20.45 ± 0.03</td><td>LT</td></tr>\n",
       "<tr><td>57836.04</td><td>22.64 ± 0.03</td><td>–</td><td>21.24 ± 0.01</td><td>–</td><td>–</td><td>–</td><td>–</td><td>VLT</td></tr>\n",
       "</table>"
      ],
      "text/plain": [
       "<Table length=29>\n",
       "MJD\n",
       "            . B\n",
       "            . ... i\n",
       "            . Telescope\n",
       "            .\n",
       "     float64           str12      ...      str12                str4         \n",
       "----------------- --------------- ... --------------- -----------------------\n",
       "         57744.08    19.83 ± 0.01 ...               –                     VLT\n",
       "         57746.08    20.04 ± 0.01 ...               –                     VLT\n",
       "         57748.12    20.24 ± 0.01 ...               –                     VLT\n",
       "         57749.03    20.21 ± 0.03 ...               –                     TNG\n",
       "         57749.99    20.18 ± 0.13 ...    19.80 ± 0.03                      LT\n",
       "          57750.0               – ...    19.80 ± 0.03                      LT\n",
       "         57751.09    20.46 ± 0.01 ...               –                     VLT\n",
       "         57751.98               – ...    19.76 ± 0.08                      LT\n",
       "         57751.99               – ...    19.75 ± 0.08                      LT\n",
       "         57753.99    20.52 ± 0.21 ...               –                     TNG\n",
       "              ...             ... ...             ...                     ...\n",
       "         57763.26    21.58 ± 0.06 ...               –                     VLT\n",
       "         57767.17               – ...               –                     VLT\n",
       "         57769.98               – ...    20.05 ± 0.02                      LT\n",
       "         57770.91               – ...    20.11 ± 0.02                      LT\n",
       "         57772.04    21.98 ± 0.01 ...               –                     VLT\n",
       "         57772.91               – ...    20.22 ± 0.02                      LT\n",
       "         57778.88               – ...    20.27 ± 0.03                      LT\n",
       "         57779.22    22.17 ± 0.02 ...               –                     VLT\n",
       "         57779.92               – ...    20.45 ± 0.03                      LT\n",
       "         57836.04    22.64 ± 0.03 ...               –                     VLT"
      ]
     },
     "execution_count": 6,
     "metadata": {},
     "output_type": "execute_result"
    }
   ],
   "source": [
    "data.read('GRB161219B-2016jca.fits', format='html')"
   ]
  },
  {
   "cell_type": "code",
   "execution_count": null,
   "id": "5dae3cc8",
   "metadata": {},
   "outputs": [],
   "source": []
  }
 ],
 "metadata": {
  "kernelspec": {
   "display_name": "Python 3",
   "language": "python",
   "name": "python3"
  },
  "language_info": {
   "codemirror_mode": {
    "name": "ipython",
    "version": 3
   },
   "file_extension": ".py",
   "mimetype": "text/x-python",
   "name": "python",
   "nbconvert_exporter": "python",
   "pygments_lexer": "ipython3",
   "version": "3.8.10"
  }
 },
 "nbformat": 4,
 "nbformat_minor": 5
}

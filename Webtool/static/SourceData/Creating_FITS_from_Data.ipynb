{
 "cells": [
  {
   "cell_type": "code",
   "execution_count": 1,
   "id": "26a4b7fe",
   "metadata": {},
   "outputs": [],
   "source": [
    "import numpy as np\n",
    "from astropy.io import ascii"
   ]
  },
  {
   "cell_type": "code",
   "execution_count": 2,
   "id": "a4eb8806",
   "metadata": {},
   "outputs": [],
   "source": [
    "file='GRB130427A-SN2013cq/GRB130427A-SN2013cq_Optical1.txt'"
   ]
  },
  {
   "cell_type": "code",
   "execution_count": 12,
   "id": "12313e05",
   "metadata": {
    "scrolled": false
   },
   "outputs": [],
   "source": [
    "#data = ascii.read(file, header_start=2, data_start=3)"
   ]
  },
  {
   "cell_type": "code",
   "execution_count": null,
   "id": "9aa120a8",
   "metadata": {},
   "outputs": [],
   "source": []
  }
 ],
 "metadata": {
  "kernelspec": {
   "display_name": "Python 3",
   "language": "python",
   "name": "python3"
  },
  "language_info": {
   "codemirror_mode": {
    "name": "ipython",
    "version": 3
   },
   "file_extension": ".py",
   "mimetype": "text/x-python",
   "name": "python",
   "nbconvert_exporter": "python",
   "pygments_lexer": "ipython3",
   "version": "3.8.10"
  }
 },
 "nbformat": 4,
 "nbformat_minor": 5
}

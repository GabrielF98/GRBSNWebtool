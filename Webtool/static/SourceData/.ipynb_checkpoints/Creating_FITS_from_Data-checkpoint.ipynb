{
 "cells": [
  {
   "cell_type": "code",
   "execution_count": 4,
   "id": "d4cc218f",
   "metadata": {},
   "outputs": [],
   "source": [
    "import numpy as np\n",
    "from astropy.io import fits, ascii"
   ]
  },
  {
   "cell_type": "code",
   "execution_count": 8,
   "id": "b3e3bb87",
   "metadata": {},
   "outputs": [
    {
     "ename": "ValueError",
     "evalue": "must have exactly one of create/read/write/append mode",
     "output_type": "error",
     "traceback": [
      "\u001b[0;31m---------------------------------------------------------------------------\u001b[0m",
      "\u001b[0;31mValueError\u001b[0m                                Traceback (most recent call last)",
      "\u001b[0;32m<ipython-input-8-a47beee491f2>\u001b[0m in \u001b[0;36m<module>\u001b[0;34m\u001b[0m\n\u001b[1;32m      2\u001b[0m \u001b[0;34m\u001b[0m\u001b[0m\n\u001b[1;32m      3\u001b[0m \u001b[0;31m#Remove blank lines in the file so as not to confuse ascii.read()\u001b[0m\u001b[0;34m\u001b[0m\u001b[0;34m\u001b[0m\u001b[0;34m\u001b[0m\u001b[0m\n\u001b[0;32m----> 4\u001b[0;31m \u001b[0;32mwith\u001b[0m \u001b[0mopen\u001b[0m\u001b[0;34m(\u001b[0m\u001b[0mfilename\u001b[0m\u001b[0;34m,\u001b[0m\u001b[0;34m'rw'\u001b[0m\u001b[0;34m)\u001b[0m \u001b[0;32mas\u001b[0m \u001b[0mfile\u001b[0m\u001b[0;34m:\u001b[0m\u001b[0;34m\u001b[0m\u001b[0;34m\u001b[0m\u001b[0m\n\u001b[0m\u001b[1;32m      5\u001b[0m     \u001b[0;32mfor\u001b[0m \u001b[0mline\u001b[0m \u001b[0;32min\u001b[0m \u001b[0mfile\u001b[0m\u001b[0;34m:\u001b[0m\u001b[0;34m\u001b[0m\u001b[0;34m\u001b[0m\u001b[0m\n\u001b[1;32m      6\u001b[0m         \u001b[0;32mif\u001b[0m \u001b[0;32mnot\u001b[0m \u001b[0mline\u001b[0m\u001b[0;34m.\u001b[0m\u001b[0misspace\u001b[0m\u001b[0;34m(\u001b[0m\u001b[0;34m)\u001b[0m\u001b[0;34m:\u001b[0m\u001b[0;34m\u001b[0m\u001b[0;34m\u001b[0m\u001b[0m\n",
      "\u001b[0;31mValueError\u001b[0m: must have exactly one of create/read/write/append mode"
     ]
    }
   ],
   "source": [
    "filename='GRB130831A-SN2013fu/GRB130831A-SN2013fu_UV_Optical.txt'\n",
    "\n",
    "#Remove blank lines in the file so as not to confuse ascii.read()\n",
    "with open(filename,'r') as file:\n",
    "    for line in file:\n",
    "        if not line.isspace():\n",
    "            file.write(line)"
   ]
  },
  {
   "cell_type": "code",
   "execution_count": 7,
   "id": "4ca4744e",
   "metadata": {},
   "outputs": [
    {
     "ename": "InconsistentTableError",
     "evalue": "\nERROR: Unable to guess table format with the guesses listed below:\nReader:Ecsv delimiter: '&' fast_reader: {'enable': True} fill_values: [('', '0')] strict_names: True\nReader:FixedWidthTwoLine delimiter: '&' fast_reader: {'enable': True} fill_values: [('', '0')] strict_names: True\nReader:RST delimiter: '&' fast_reader: {'enable': True} fill_values: [('', '0')] strict_names: True\nReader:FastBasic delimiter: '&' fast_reader: {'enable': True} fill_values: [('', '0')] strict_names: True\nReader:Basic delimiter: '&' fast_reader: {'enable': True} fill_values: [('', '0')] strict_names: True\nReader:FastRdb delimiter: '&' fast_reader: {'enable': True} fill_values: [('', '0')] strict_names: True\nReader:Rdb delimiter: '&' fast_reader: {'enable': True} fill_values: [('', '0')] strict_names: True\nReader:FastTab delimiter: '&' fast_reader: {'enable': True} fill_values: [('', '0')] strict_names: True\nReader:Tab delimiter: '&' fast_reader: {'enable': True} fill_values: [('', '0')] strict_names: True\nReader:Cds delimiter: '&' fast_reader: {'enable': True} fill_values: [('', '0')] strict_names: True\nReader:Daophot delimiter: '&' fast_reader: {'enable': True} fill_values: [('', '0')] strict_names: True\nReader:SExtractor delimiter: '&' fast_reader: {'enable': True} fill_values: [('', '0')] strict_names: True\nReader:Ipac delimiter: '&' fast_reader: {'enable': True} fill_values: [('', '0')] strict_names: True\nReader:Latex delimiter: '&' fast_reader: {'enable': True} fill_values: [('', '0')] strict_names: True\nReader:AASTex delimiter: '&' fast_reader: {'enable': True} fill_values: [('', '0')] strict_names: True\nReader:Basic delimiter: '&' fast_reader: {'enable': True} fill_values: [('', '0')]\n\n************************************************************************\n** ERROR: Unable to guess table format with the guesses listed above. **\n**                                                                    **\n** To figure out why the table did not read, use guess=False and      **\n** fast_reader=False, along with any appropriate arguments to read(). **\n** In particular specify the format and any known attributes like the **\n** delimiter.                                                         **\n************************************************************************",
     "output_type": "error",
     "traceback": [
      "\u001b[0;31m---------------------------------------------------------------------------\u001b[0m",
      "\u001b[0;31mInconsistentTableError\u001b[0m                    Traceback (most recent call last)",
      "\u001b[0;32m/opt/anaconda3/lib/python3.8/site-packages/astropy/io/ascii/ui.py\u001b[0m in \u001b[0;36m_guess\u001b[0;34m(table, read_kwargs, format, fast_reader)\u001b[0m\n\u001b[1;32m    516\u001b[0m             \u001b[0mreader\u001b[0m \u001b[0;34m=\u001b[0m \u001b[0mget_reader\u001b[0m\u001b[0;34m(\u001b[0m\u001b[0;34m**\u001b[0m\u001b[0mread_kwargs\u001b[0m\u001b[0;34m)\u001b[0m\u001b[0;34m\u001b[0m\u001b[0;34m\u001b[0m\u001b[0m\n\u001b[0;32m--> 517\u001b[0;31m             \u001b[0mdat\u001b[0m \u001b[0;34m=\u001b[0m \u001b[0mreader\u001b[0m\u001b[0;34m.\u001b[0m\u001b[0mread\u001b[0m\u001b[0;34m(\u001b[0m\u001b[0mtable\u001b[0m\u001b[0;34m)\u001b[0m\u001b[0;34m\u001b[0m\u001b[0;34m\u001b[0m\u001b[0m\n\u001b[0m\u001b[1;32m    518\u001b[0m             _read_trace.append({'kwargs': copy.deepcopy(read_kwargs),\n",
      "\u001b[0;32m/opt/anaconda3/lib/python3.8/site-packages/astropy/io/ascii/core.py\u001b[0m in \u001b[0;36mread\u001b[0;34m(self, table)\u001b[0m\n\u001b[1;32m   1299\u001b[0m \u001b[0;34m\u001b[0m\u001b[0m\n\u001b[0;32m-> 1300\u001b[0;31m                     \u001b[0;32mraise\u001b[0m \u001b[0mInconsistentTableError\u001b[0m\u001b[0;34m(\u001b[0m\u001b[0merrmsg\u001b[0m\u001b[0;34m)\u001b[0m\u001b[0;34m\u001b[0m\u001b[0;34m\u001b[0m\u001b[0m\n\u001b[0m\u001b[1;32m   1301\u001b[0m \u001b[0;34m\u001b[0m\u001b[0m\n",
      "\u001b[0;31mInconsistentTableError\u001b[0m: Number of header columns (5) inconsistent with data columns (1) at data line 0\nHeader values: ['t-t_0 (s)', 'Exposure time (s)', 'Mag', 'Filter', 'Telescope']\nData values: ['————————————————————————————————————————————————————————————————————']",
      "\nDuring handling of the above exception, another exception occurred:\n",
      "\u001b[0;31mInconsistentTableError\u001b[0m                    Traceback (most recent call last)",
      "\u001b[0;32m<ipython-input-7-0ef12bd4b5ab>\u001b[0m in \u001b[0;36m<module>\u001b[0;34m\u001b[0m\n\u001b[0;32m----> 1\u001b[0;31m \u001b[0mdata\u001b[0m \u001b[0;34m=\u001b[0m \u001b[0mascii\u001b[0m\u001b[0;34m.\u001b[0m\u001b[0mread\u001b[0m\u001b[0;34m(\u001b[0m\u001b[0;34m\"GRB130831A-SN2013fu/GRB130831A-SN2013fu_UV_Optical.txt\"\u001b[0m\u001b[0;34m,\u001b[0m \u001b[0mdelimiter\u001b[0m\u001b[0;34m=\u001b[0m\u001b[0;34m'&'\u001b[0m\u001b[0;34m)\u001b[0m\u001b[0;34m\u001b[0m\u001b[0;34m\u001b[0m\u001b[0m\n\u001b[0m",
      "\u001b[0;32m/opt/anaconda3/lib/python3.8/site-packages/astropy/io/ascii/ui.py\u001b[0m in \u001b[0;36mread\u001b[0;34m(table, guess, **kwargs)\u001b[0m\n\u001b[1;32m    338\u001b[0m         \u001b[0;31m# through below to the non-guess way so that any problems result in a\u001b[0m\u001b[0;34m\u001b[0m\u001b[0;34m\u001b[0m\u001b[0;34m\u001b[0m\u001b[0m\n\u001b[1;32m    339\u001b[0m         \u001b[0;31m# more useful traceback.\u001b[0m\u001b[0;34m\u001b[0m\u001b[0;34m\u001b[0m\u001b[0;34m\u001b[0m\u001b[0m\n\u001b[0;32m--> 340\u001b[0;31m         \u001b[0mdat\u001b[0m \u001b[0;34m=\u001b[0m \u001b[0m_guess\u001b[0m\u001b[0;34m(\u001b[0m\u001b[0mtable\u001b[0m\u001b[0;34m,\u001b[0m \u001b[0mnew_kwargs\u001b[0m\u001b[0;34m,\u001b[0m \u001b[0mformat\u001b[0m\u001b[0;34m,\u001b[0m \u001b[0mfast_reader\u001b[0m\u001b[0;34m)\u001b[0m\u001b[0;34m\u001b[0m\u001b[0;34m\u001b[0m\u001b[0m\n\u001b[0m\u001b[1;32m    341\u001b[0m         \u001b[0;32mif\u001b[0m \u001b[0mdat\u001b[0m \u001b[0;32mis\u001b[0m \u001b[0;32mNone\u001b[0m\u001b[0;34m:\u001b[0m\u001b[0;34m\u001b[0m\u001b[0;34m\u001b[0m\u001b[0m\n\u001b[1;32m    342\u001b[0m             \u001b[0mguess\u001b[0m \u001b[0;34m=\u001b[0m \u001b[0;32mFalse\u001b[0m\u001b[0;34m\u001b[0m\u001b[0;34m\u001b[0m\u001b[0m\n",
      "\u001b[0;32m/opt/anaconda3/lib/python3.8/site-packages/astropy/io/ascii/ui.py\u001b[0m in \u001b[0;36m_guess\u001b[0;34m(table, read_kwargs, format, fast_reader)\u001b[0m\n\u001b[1;32m    547\u001b[0m                    '************************************************************************']\n\u001b[1;32m    548\u001b[0m             \u001b[0mlines\u001b[0m\u001b[0;34m.\u001b[0m\u001b[0mextend\u001b[0m\u001b[0;34m(\u001b[0m\u001b[0mmsg\u001b[0m\u001b[0;34m)\u001b[0m\u001b[0;34m\u001b[0m\u001b[0;34m\u001b[0m\u001b[0m\n\u001b[0;32m--> 549\u001b[0;31m             \u001b[0;32mraise\u001b[0m \u001b[0mcore\u001b[0m\u001b[0;34m.\u001b[0m\u001b[0mInconsistentTableError\u001b[0m\u001b[0;34m(\u001b[0m\u001b[0;34m'\\n'\u001b[0m\u001b[0;34m.\u001b[0m\u001b[0mjoin\u001b[0m\u001b[0;34m(\u001b[0m\u001b[0mlines\u001b[0m\u001b[0;34m)\u001b[0m\u001b[0;34m)\u001b[0m\u001b[0;34m\u001b[0m\u001b[0;34m\u001b[0m\u001b[0m\n\u001b[0m\u001b[1;32m    550\u001b[0m \u001b[0;34m\u001b[0m\u001b[0m\n\u001b[1;32m    551\u001b[0m \u001b[0;34m\u001b[0m\u001b[0m\n",
      "\u001b[0;31mInconsistentTableError\u001b[0m: \nERROR: Unable to guess table format with the guesses listed below:\nReader:Ecsv delimiter: '&' fast_reader: {'enable': True} fill_values: [('', '0')] strict_names: True\nReader:FixedWidthTwoLine delimiter: '&' fast_reader: {'enable': True} fill_values: [('', '0')] strict_names: True\nReader:RST delimiter: '&' fast_reader: {'enable': True} fill_values: [('', '0')] strict_names: True\nReader:FastBasic delimiter: '&' fast_reader: {'enable': True} fill_values: [('', '0')] strict_names: True\nReader:Basic delimiter: '&' fast_reader: {'enable': True} fill_values: [('', '0')] strict_names: True\nReader:FastRdb delimiter: '&' fast_reader: {'enable': True} fill_values: [('', '0')] strict_names: True\nReader:Rdb delimiter: '&' fast_reader: {'enable': True} fill_values: [('', '0')] strict_names: True\nReader:FastTab delimiter: '&' fast_reader: {'enable': True} fill_values: [('', '0')] strict_names: True\nReader:Tab delimiter: '&' fast_reader: {'enable': True} fill_values: [('', '0')] strict_names: True\nReader:Cds delimiter: '&' fast_reader: {'enable': True} fill_values: [('', '0')] strict_names: True\nReader:Daophot delimiter: '&' fast_reader: {'enable': True} fill_values: [('', '0')] strict_names: True\nReader:SExtractor delimiter: '&' fast_reader: {'enable': True} fill_values: [('', '0')] strict_names: True\nReader:Ipac delimiter: '&' fast_reader: {'enable': True} fill_values: [('', '0')] strict_names: True\nReader:Latex delimiter: '&' fast_reader: {'enable': True} fill_values: [('', '0')] strict_names: True\nReader:AASTex delimiter: '&' fast_reader: {'enable': True} fill_values: [('', '0')] strict_names: True\nReader:Basic delimiter: '&' fast_reader: {'enable': True} fill_values: [('', '0')]\n\n************************************************************************\n** ERROR: Unable to guess table format with the guesses listed above. **\n**                                                                    **\n** To figure out why the table did not read, use guess=False and      **\n** fast_reader=False, along with any appropriate arguments to read(). **\n** In particular specify the format and any known attributes like the **\n** delimiter.                                                         **\n************************************************************************"
     ]
    }
   ],
   "source": [
    "data = ascii.read(\"GRB130831A-SN2013fu/GRB130831A-SN2013fu_UV_Optical.txt\", delimiter='&')"
   ]
  },
  {
   "cell_type": "code",
   "execution_count": null,
   "id": "a1037aa1",
   "metadata": {},
   "outputs": [],
   "source": []
  }
 ],
 "metadata": {
  "kernelspec": {
   "display_name": "Python 3",
   "language": "python",
   "name": "python3"
  },
  "language_info": {
   "codemirror_mode": {
    "name": "ipython",
    "version": 3
   },
   "file_extension": ".py",
   "mimetype": "text/x-python",
   "name": "python",
   "nbconvert_exporter": "python",
   "pygments_lexer": "ipython3",
   "version": "3.8.10"
  }
 },
 "nbformat": 4,
 "nbformat_minor": 5
}

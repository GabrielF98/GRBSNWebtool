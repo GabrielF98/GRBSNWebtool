{
 "cells": [
  {
   "cell_type": "code",
   "execution_count": 3,
   "id": "5f222e4f",
   "metadata": {},
   "outputs": [
    {
     "ename": "TypeError",
     "evalue": "expected string or bytes-like object",
     "output_type": "error",
     "traceback": [
      "\u001b[0;31m---------------------------------------------------------------------------\u001b[0m",
      "\u001b[0;31mTypeError\u001b[0m                                 Traceback (most recent call last)",
      "\u001b[0;32m/var/folders/zj/g5tv_0bs3cz0lk__b0657f4w0000gn/T/ipykernel_34176/851973962.py\u001b[0m in \u001b[0;36m<module>\u001b[0;34m\u001b[0m\n\u001b[1;32m      1\u001b[0m \u001b[0;32mimport\u001b[0m \u001b[0mnumpy\u001b[0m \u001b[0;32mas\u001b[0m \u001b[0mnp\u001b[0m\u001b[0;34m\u001b[0m\u001b[0;34m\u001b[0m\u001b[0m\n\u001b[0;32m----> 2\u001b[0;31m \u001b[0;32mfrom\u001b[0m \u001b[0mastropy\u001b[0m\u001b[0;34m.\u001b[0m\u001b[0mio\u001b[0m \u001b[0;32mimport\u001b[0m \u001b[0mfits\u001b[0m\u001b[0;34m\u001b[0m\u001b[0;34m\u001b[0m\u001b[0m\n\u001b[0m\u001b[1;32m      3\u001b[0m \u001b[0;32mfrom\u001b[0m \u001b[0mastropy\u001b[0m\u001b[0;34m.\u001b[0m\u001b[0mtable\u001b[0m \u001b[0;32mimport\u001b[0m \u001b[0mTable\u001b[0m\u001b[0;34m,\u001b[0m \u001b[0mColumn\u001b[0m\u001b[0;34m\u001b[0m\u001b[0;34m\u001b[0m\u001b[0m\n\u001b[1;32m      4\u001b[0m \u001b[0;32mimport\u001b[0m \u001b[0mpandas\u001b[0m \u001b[0;32mas\u001b[0m \u001b[0mpd\u001b[0m\u001b[0;34m\u001b[0m\u001b[0;34m\u001b[0m\u001b[0m\n",
      "\u001b[0;32m/opt/anaconda3/lib/python3.8/site-packages/astropy/io/fits/__init__.py\u001b[0m in \u001b[0;36m<module>\u001b[0;34m\u001b[0m\n\u001b[1;32m     68\u001b[0m \u001b[0;32mfrom\u001b[0m \u001b[0;34m.\u001b[0m \u001b[0;32mimport\u001b[0m \u001b[0mcard\u001b[0m\u001b[0;34m\u001b[0m\u001b[0;34m\u001b[0m\u001b[0m\n\u001b[1;32m     69\u001b[0m \u001b[0;32mfrom\u001b[0m \u001b[0;34m.\u001b[0m \u001b[0;32mimport\u001b[0m \u001b[0mcolumn\u001b[0m\u001b[0;34m\u001b[0m\u001b[0;34m\u001b[0m\u001b[0m\n\u001b[0;32m---> 70\u001b[0;31m \u001b[0;32mfrom\u001b[0m \u001b[0;34m.\u001b[0m \u001b[0;32mimport\u001b[0m \u001b[0mconvenience\u001b[0m\u001b[0;34m\u001b[0m\u001b[0;34m\u001b[0m\u001b[0m\n\u001b[0m\u001b[1;32m     71\u001b[0m \u001b[0;32mfrom\u001b[0m \u001b[0;34m.\u001b[0m \u001b[0;32mimport\u001b[0m \u001b[0mhdu\u001b[0m\u001b[0;34m\u001b[0m\u001b[0;34m\u001b[0m\u001b[0m\n\u001b[1;32m     72\u001b[0m \u001b[0;32mfrom\u001b[0m \u001b[0;34m.\u001b[0m\u001b[0mcard\u001b[0m \u001b[0;32mimport\u001b[0m \u001b[0;34m*\u001b[0m\u001b[0;34m\u001b[0m\u001b[0;34m\u001b[0m\u001b[0m\n",
      "\u001b[0;32m/opt/anaconda3/lib/python3.8/site-packages/astropy/io/fits/convenience.py\u001b[0m in \u001b[0;36m<module>\u001b[0;34m\u001b[0m\n\u001b[1;32m     61\u001b[0m \u001b[0;32mimport\u001b[0m \u001b[0mnumpy\u001b[0m \u001b[0;32mas\u001b[0m \u001b[0mnp\u001b[0m\u001b[0;34m\u001b[0m\u001b[0;34m\u001b[0m\u001b[0m\n\u001b[1;32m     62\u001b[0m \u001b[0;34m\u001b[0m\u001b[0m\n\u001b[0;32m---> 63\u001b[0;31m \u001b[0;32mfrom\u001b[0m \u001b[0;34m.\u001b[0m\u001b[0mdiff\u001b[0m \u001b[0;32mimport\u001b[0m \u001b[0mFITSDiff\u001b[0m\u001b[0;34m,\u001b[0m \u001b[0mHDUDiff\u001b[0m\u001b[0;34m\u001b[0m\u001b[0;34m\u001b[0m\u001b[0m\n\u001b[0m\u001b[1;32m     64\u001b[0m \u001b[0;32mfrom\u001b[0m \u001b[0;34m.\u001b[0m\u001b[0mfile\u001b[0m \u001b[0;32mimport\u001b[0m \u001b[0mFILE_MODES\u001b[0m\u001b[0;34m,\u001b[0m \u001b[0m_File\u001b[0m\u001b[0;34m\u001b[0m\u001b[0;34m\u001b[0m\u001b[0m\n\u001b[1;32m     65\u001b[0m \u001b[0;32mfrom\u001b[0m \u001b[0;34m.\u001b[0m\u001b[0mhdu\u001b[0m\u001b[0;34m.\u001b[0m\u001b[0mbase\u001b[0m \u001b[0;32mimport\u001b[0m \u001b[0m_BaseHDU\u001b[0m\u001b[0;34m,\u001b[0m \u001b[0m_ValidHDU\u001b[0m\u001b[0;34m\u001b[0m\u001b[0;34m\u001b[0m\u001b[0m\n",
      "\u001b[0;32m/opt/anaconda3/lib/python3.8/site-packages/astropy/io/fits/diff.py\u001b[0m in \u001b[0;36m<module>\u001b[0;34m\u001b[0m\n\u001b[1;32m     23\u001b[0m \u001b[0;34m\u001b[0m\u001b[0m\n\u001b[1;32m     24\u001b[0m \u001b[0;32mfrom\u001b[0m \u001b[0;34m.\u001b[0m\u001b[0mcard\u001b[0m \u001b[0;32mimport\u001b[0m \u001b[0mCard\u001b[0m\u001b[0;34m,\u001b[0m \u001b[0mBLANK_CARD\u001b[0m\u001b[0;34m\u001b[0m\u001b[0;34m\u001b[0m\u001b[0m\n\u001b[0;32m---> 25\u001b[0;31m \u001b[0;32mfrom\u001b[0m \u001b[0;34m.\u001b[0m\u001b[0mheader\u001b[0m \u001b[0;32mimport\u001b[0m \u001b[0mHeader\u001b[0m\u001b[0;34m\u001b[0m\u001b[0;34m\u001b[0m\u001b[0m\n\u001b[0m\u001b[1;32m     26\u001b[0m \u001b[0;32mfrom\u001b[0m \u001b[0mastropy\u001b[0m\u001b[0;34m.\u001b[0m\u001b[0mutils\u001b[0m\u001b[0;34m.\u001b[0m\u001b[0mdecorators\u001b[0m \u001b[0;32mimport\u001b[0m \u001b[0mdeprecated_renamed_argument\u001b[0m\u001b[0;34m\u001b[0m\u001b[0;34m\u001b[0m\u001b[0m\n\u001b[1;32m     27\u001b[0m \u001b[0;31m# HDUList is used in one of the doctests\u001b[0m\u001b[0;34m\u001b[0m\u001b[0;34m\u001b[0m\u001b[0;34m\u001b[0m\u001b[0m\n",
      "\u001b[0;32m/opt/anaconda3/lib/python3.8/site-packages/astropy/io/fits/header.py\u001b[0m in \u001b[0;36m<module>\u001b[0;34m\u001b[0m\n\u001b[1;32m      9\u001b[0m \u001b[0;34m\u001b[0m\u001b[0m\n\u001b[1;32m     10\u001b[0m \u001b[0;32mfrom\u001b[0m \u001b[0;34m.\u001b[0m\u001b[0mcard\u001b[0m \u001b[0;32mimport\u001b[0m \u001b[0mCard\u001b[0m\u001b[0;34m,\u001b[0m \u001b[0m_pad\u001b[0m\u001b[0;34m,\u001b[0m \u001b[0mKEYWORD_LENGTH\u001b[0m\u001b[0;34m,\u001b[0m \u001b[0mUNDEFINED\u001b[0m\u001b[0;34m\u001b[0m\u001b[0;34m\u001b[0m\u001b[0m\n\u001b[0;32m---> 11\u001b[0;31m \u001b[0;32mfrom\u001b[0m \u001b[0;34m.\u001b[0m\u001b[0mfile\u001b[0m \u001b[0;32mimport\u001b[0m \u001b[0m_File\u001b[0m\u001b[0;34m\u001b[0m\u001b[0;34m\u001b[0m\u001b[0m\n\u001b[0m\u001b[1;32m     12\u001b[0m from .util import (encode_ascii, decode_ascii, fileobj_closed,\n\u001b[1;32m     13\u001b[0m                    fileobj_is_binary, path_like)\n",
      "\u001b[0;32m/opt/anaconda3/lib/python3.8/site-packages/astropy/io/fits/file.py\u001b[0m in \u001b[0;36m<module>\u001b[0;34m\u001b[0m\n\u001b[1;32m     27\u001b[0m \u001b[0;34m\u001b[0m\u001b[0m\n\u001b[1;32m     28\u001b[0m \u001b[0;31m# NOTE: Python can be built without bz2.\u001b[0m\u001b[0;34m\u001b[0m\u001b[0;34m\u001b[0m\u001b[0;34m\u001b[0m\u001b[0m\n\u001b[0;32m---> 29\u001b[0;31m \u001b[0;32mfrom\u001b[0m \u001b[0mastropy\u001b[0m\u001b[0;34m.\u001b[0m\u001b[0mutils\u001b[0m\u001b[0;34m.\u001b[0m\u001b[0mcompat\u001b[0m\u001b[0;34m.\u001b[0m\u001b[0moptional_deps\u001b[0m \u001b[0;32mimport\u001b[0m \u001b[0mHAS_BZ2\u001b[0m\u001b[0;34m\u001b[0m\u001b[0;34m\u001b[0m\u001b[0m\n\u001b[0m\u001b[1;32m     30\u001b[0m \u001b[0;32mif\u001b[0m \u001b[0mHAS_BZ2\u001b[0m\u001b[0;34m:\u001b[0m\u001b[0;34m\u001b[0m\u001b[0;34m\u001b[0m\u001b[0m\n\u001b[1;32m     31\u001b[0m     \u001b[0;32mimport\u001b[0m \u001b[0mbz2\u001b[0m\u001b[0;34m\u001b[0m\u001b[0;34m\u001b[0m\u001b[0m\n",
      "\u001b[0;32m/opt/anaconda3/lib/python3.8/site-packages/astropy/utils/compat/__init__.py\u001b[0m in \u001b[0;36m<module>\u001b[0;34m\u001b[0m\n\u001b[1;32m     17\u001b[0m \u001b[0;34m\u001b[0m\u001b[0m\n\u001b[1;32m     18\u001b[0m \u001b[0;31m# Importing this module will also install monkey-patches defined in it\u001b[0m\u001b[0;34m\u001b[0m\u001b[0;34m\u001b[0m\u001b[0;34m\u001b[0m\u001b[0m\n\u001b[0;32m---> 19\u001b[0;31m \u001b[0;32mfrom\u001b[0m \u001b[0;34m.\u001b[0m\u001b[0mnumpycompat\u001b[0m \u001b[0;32mimport\u001b[0m \u001b[0;34m*\u001b[0m  \u001b[0;31m# noqa\u001b[0m\u001b[0;34m\u001b[0m\u001b[0;34m\u001b[0m\u001b[0m\n\u001b[0m",
      "\u001b[0;32m/opt/anaconda3/lib/python3.8/site-packages/astropy/utils/compat/numpycompat.py\u001b[0m in \u001b[0;36m<module>\u001b[0;34m\u001b[0m\n\u001b[1;32m     11\u001b[0m \u001b[0;31m# features/bugs we're checking for (ex:\u001b[0m\u001b[0;34m\u001b[0m\u001b[0;34m\u001b[0m\u001b[0;34m\u001b[0m\u001b[0m\n\u001b[1;32m     12\u001b[0m \u001b[0;31m# astropy.table.table._BROKEN_UNICODE_TABLE_SORT)\u001b[0m\u001b[0;34m\u001b[0m\u001b[0;34m\u001b[0m\u001b[0;34m\u001b[0m\u001b[0m\n\u001b[0;32m---> 13\u001b[0;31m \u001b[0mNUMPY_LT_1_19\u001b[0m \u001b[0;34m=\u001b[0m \u001b[0;32mnot\u001b[0m \u001b[0mminversion\u001b[0m\u001b[0;34m(\u001b[0m\u001b[0;34m'numpy'\u001b[0m\u001b[0;34m,\u001b[0m \u001b[0;34m'1.19'\u001b[0m\u001b[0;34m)\u001b[0m\u001b[0;34m\u001b[0m\u001b[0;34m\u001b[0m\u001b[0m\n\u001b[0m\u001b[1;32m     14\u001b[0m \u001b[0mNUMPY_LT_1_20\u001b[0m \u001b[0;34m=\u001b[0m \u001b[0;32mnot\u001b[0m \u001b[0mminversion\u001b[0m\u001b[0;34m(\u001b[0m\u001b[0;34m'numpy'\u001b[0m\u001b[0;34m,\u001b[0m \u001b[0;34m'1.20'\u001b[0m\u001b[0;34m)\u001b[0m\u001b[0;34m\u001b[0m\u001b[0;34m\u001b[0m\u001b[0m\n\u001b[1;32m     15\u001b[0m \u001b[0mNUMPY_LT_1_21_1\u001b[0m \u001b[0;34m=\u001b[0m \u001b[0;32mnot\u001b[0m \u001b[0mminversion\u001b[0m\u001b[0;34m(\u001b[0m\u001b[0;34m'numpy'\u001b[0m\u001b[0;34m,\u001b[0m \u001b[0;34m'1.21.1'\u001b[0m\u001b[0;34m)\u001b[0m\u001b[0;34m\u001b[0m\u001b[0;34m\u001b[0m\u001b[0m\n",
      "\u001b[0;32m/opt/anaconda3/lib/python3.8/site-packages/astropy/utils/decorators.py\u001b[0m in \u001b[0;36mwrapper\u001b[0;34m(*args, **kwargs)\u001b[0m\n\u001b[1;32m    545\u001b[0m                     \u001b[0mwarnings\u001b[0m\u001b[0;34m.\u001b[0m\u001b[0mwarn\u001b[0m\u001b[0;34m(\u001b[0m\u001b[0mmsg\u001b[0m\u001b[0;34m,\u001b[0m \u001b[0mwarning_type\u001b[0m\u001b[0;34m,\u001b[0m \u001b[0mstacklevel\u001b[0m\u001b[0;34m=\u001b[0m\u001b[0;36m2\u001b[0m\u001b[0;34m)\u001b[0m\u001b[0;34m\u001b[0m\u001b[0;34m\u001b[0m\u001b[0m\n\u001b[1;32m    546\u001b[0m \u001b[0;34m\u001b[0m\u001b[0m\n\u001b[0;32m--> 547\u001b[0;31m             \u001b[0;32mreturn\u001b[0m \u001b[0mfunction\u001b[0m\u001b[0;34m(\u001b[0m\u001b[0;34m*\u001b[0m\u001b[0margs\u001b[0m\u001b[0;34m,\u001b[0m \u001b[0;34m**\u001b[0m\u001b[0mkwargs\u001b[0m\u001b[0;34m)\u001b[0m\u001b[0;34m\u001b[0m\u001b[0;34m\u001b[0m\u001b[0m\n\u001b[0m\u001b[1;32m    548\u001b[0m \u001b[0;34m\u001b[0m\u001b[0m\n\u001b[1;32m    549\u001b[0m         \u001b[0;32mreturn\u001b[0m \u001b[0mwrapper\u001b[0m\u001b[0;34m\u001b[0m\u001b[0;34m\u001b[0m\u001b[0m\n",
      "\u001b[0;32m/opt/anaconda3/lib/python3.8/site-packages/astropy/utils/introspection.py\u001b[0m in \u001b[0;36mminversion\u001b[0;34m(module, version, inclusive, version_path)\u001b[0m\n\u001b[1;32m    165\u001b[0m \u001b[0;34m\u001b[0m\u001b[0m\n\u001b[1;32m    166\u001b[0m     \u001b[0;32mif\u001b[0m \u001b[0minclusive\u001b[0m\u001b[0;34m:\u001b[0m\u001b[0;34m\u001b[0m\u001b[0;34m\u001b[0m\u001b[0m\n\u001b[0;32m--> 167\u001b[0;31m         \u001b[0;32mreturn\u001b[0m \u001b[0mVersion\u001b[0m\u001b[0;34m(\u001b[0m\u001b[0mmodule_version\u001b[0m\u001b[0;34m)\u001b[0m \u001b[0;34m>=\u001b[0m \u001b[0mVersion\u001b[0m\u001b[0;34m(\u001b[0m\u001b[0mversion\u001b[0m\u001b[0;34m)\u001b[0m\u001b[0;34m\u001b[0m\u001b[0;34m\u001b[0m\u001b[0m\n\u001b[0m\u001b[1;32m    168\u001b[0m     \u001b[0;32melse\u001b[0m\u001b[0;34m:\u001b[0m\u001b[0;34m\u001b[0m\u001b[0;34m\u001b[0m\u001b[0m\n\u001b[1;32m    169\u001b[0m         \u001b[0;32mreturn\u001b[0m \u001b[0mVersion\u001b[0m\u001b[0;34m(\u001b[0m\u001b[0mmodule_version\u001b[0m\u001b[0;34m)\u001b[0m \u001b[0;34m>\u001b[0m \u001b[0mVersion\u001b[0m\u001b[0;34m(\u001b[0m\u001b[0mversion\u001b[0m\u001b[0;34m)\u001b[0m\u001b[0;34m\u001b[0m\u001b[0;34m\u001b[0m\u001b[0m\n",
      "\u001b[0;32m/opt/anaconda3/lib/python3.8/site-packages/packaging/version.py\u001b[0m in \u001b[0;36m__init__\u001b[0;34m(self, version)\u001b[0m\n\u001b[1;32m    262\u001b[0m \u001b[0;34m\u001b[0m\u001b[0m\n\u001b[1;32m    263\u001b[0m         \u001b[0;31m# Validate the version and parse it into pieces\u001b[0m\u001b[0;34m\u001b[0m\u001b[0;34m\u001b[0m\u001b[0;34m\u001b[0m\u001b[0m\n\u001b[0;32m--> 264\u001b[0;31m         \u001b[0mmatch\u001b[0m \u001b[0;34m=\u001b[0m \u001b[0mself\u001b[0m\u001b[0;34m.\u001b[0m\u001b[0m_regex\u001b[0m\u001b[0;34m.\u001b[0m\u001b[0msearch\u001b[0m\u001b[0;34m(\u001b[0m\u001b[0mversion\u001b[0m\u001b[0;34m)\u001b[0m\u001b[0;34m\u001b[0m\u001b[0;34m\u001b[0m\u001b[0m\n\u001b[0m\u001b[1;32m    265\u001b[0m         \u001b[0;32mif\u001b[0m \u001b[0;32mnot\u001b[0m \u001b[0mmatch\u001b[0m\u001b[0;34m:\u001b[0m\u001b[0;34m\u001b[0m\u001b[0;34m\u001b[0m\u001b[0m\n\u001b[1;32m    266\u001b[0m             \u001b[0;32mraise\u001b[0m \u001b[0mInvalidVersion\u001b[0m\u001b[0;34m(\u001b[0m\u001b[0;34mf\"Invalid version: '{version}'\"\u001b[0m\u001b[0;34m)\u001b[0m\u001b[0;34m\u001b[0m\u001b[0;34m\u001b[0m\u001b[0m\n",
      "\u001b[0;31mTypeError\u001b[0m: expected string or bytes-like object"
     ]
    }
   ],
   "source": [
    "import numpy as np\n",
    "from astropy.io import ascii, fits\n",
    "from astropy.table import Table, Column\n",
    "import pandas as pd"
   ]
  },
  {
   "cell_type": "markdown",
   "id": "3ff5fb82",
   "metadata": {},
   "source": [
    "# Create a FITS for each Event"
   ]
  },
  {
   "cell_type": "code",
   "execution_count": null,
   "id": "cb6859d7",
   "metadata": {},
   "outputs": [],
   "source": [
    "hdu = fits.PrimaryHDU() #Create a HDU for extension 0\n",
    "\n",
    "#Give it some data about the event\n",
    "hdr = fits.Header()\n",
    "name = 'GRB161219B-SN2016jca'\n",
    "hdr['Name'] = name\n",
    "hdr['Trig_t'] = '2016 December 19 18:48:39 UT'\n",
    "empty_primary = fits.PrimaryHDU(header=hdr)\n",
    "hdul = fits.HDUList([empty_primary])\n",
    "filename = str(name+'/FITS/'+name+'.fits')\n",
    "hdul.writeto(filename, overwrite=True)"
   ]
  },
  {
   "cell_type": "markdown",
   "id": "9aaf74fa",
   "metadata": {},
   "source": [
    "# Open the new FITS file to see whats there"
   ]
  },
  {
   "cell_type": "code",
   "execution_count": null,
   "id": "23b268a4",
   "metadata": {},
   "outputs": [],
   "source": [
    "#Open the hdul\n",
    "hdul = fits.open(name+'/FITS/'+name+'.fits')\n",
    "hdul[0].header\n",
    "\n",
    "#Close it again\n",
    "# hdul.close()"
   ]
  },
  {
   "cell_type": "markdown",
   "id": "e6993b22",
   "metadata": {},
   "source": [
    "# XRT Data"
   ]
  },
  {
   "cell_type": "code",
   "execution_count": null,
   "id": "592d4803",
   "metadata": {
    "scrolled": false
   },
   "outputs": [],
   "source": [
    "def swift_xrt(data_file, fits_file):\n",
    "    table = Table.read(data_file, delimiter='\\t', format='ascii', names=['time', 'dt+', 'dt-', 'flux', 'dflux+', 'dflux-'])\n",
    "    table.meta['Flux'] = 'erg/cm2/s'\n",
    "    table.write(fits_file, append=True)\n",
    "swift_xrt(name+'/FITS/GRB161219Bxrtlc.txt', name+'/FITS/'+name+'.fits')"
   ]
  },
  {
   "cell_type": "code",
   "execution_count": null,
   "id": "347a1bdf",
   "metadata": {},
   "outputs": [],
   "source": [
    "hdul = fits.open('table.fits')\n",
    "hdul[0].header"
   ]
  },
  {
   "cell_type": "markdown",
   "id": "de05ecd7",
   "metadata": {},
   "source": [
    "# Other Data"
   ]
  },
  {
   "cell_type": "code",
   "execution_count": null,
   "id": "43283732",
   "metadata": {},
   "outputs": [],
   "source": []
  },
  {
   "cell_type": "markdown",
   "id": "89bc29dc",
   "metadata": {},
   "source": [
    "# Reading HTML table files"
   ]
  },
  {
   "cell_type": "code",
   "execution_count": null,
   "id": "8db644c5",
   "metadata": {},
   "outputs": [],
   "source": [
    "file='GRB161219B-2016jca/GRB161219B-2016jca_Optical1.html'"
   ]
  },
  {
   "cell_type": "code",
   "execution_count": null,
   "id": "8a8bde2f",
   "metadata": {
    "scrolled": true
   },
   "outputs": [],
   "source": [
    "def check_float(potential_float):\n",
    "    try:\n",
    "        float(potential_float) #Try to convert argument into a float\n",
    "        return True\n",
    "    except ValueError:\n",
    "        return False\n",
    "\n",
    "n=0\n",
    "k=-1\n",
    "for i in range(0, 6):\n",
    "    #Read in the file changing where the data starts\n",
    "    data = ascii.read(file, format='html', data_start=i)\n",
    "    \n",
    "    \n",
    "    #find the first row that has a column value that works as a float\n",
    "    for j in range(len(data.columns)):\n",
    "        if check_float(data[0][j])==True:\n",
    "            print(i)\n",
    "            print(data[0][j])\n",
    "            k = i\n",
    "            break\n",
    "    if k==i:\n",
    "        break\n",
    "    n=i\n",
    "    \n",
    "#Get the actual data with the correct data start value    \n",
    "data = ascii.read(file, format='html', data_start=k, encoding='utf-8')\n",
    "data"
   ]
  },
  {
   "cell_type": "markdown",
   "id": "02bb5b79",
   "metadata": {},
   "source": [
    "# Cleaning up the data\n",
    "\n",
    "* I want the pm_remover() to:\n",
    "\n",
    "    * Take a table as input\n",
    "    * Check if there are pm values in the rows\n",
    "    * If there are then split that row into data and errors\n",
    "    * Append the new error row to the table whilst overwriting the old row with the float data\n",
    "    * Return the table"
   ]
  },
  {
   "cell_type": "code",
   "execution_count": null,
   "id": "896bb94c",
   "metadata": {
    "scrolled": true
   },
   "outputs": [],
   "source": [
    "# Need a way to make the columns that should be floats into floats\n",
    "def pm_remover(table): #Should separate columns containing ± into data and error\n",
    "    num_cols = len(table.columns) # Get the number of columns\n",
    "    \n",
    "    to_delete = []\n",
    "    for i in range(num_cols): #Iterate over those columns\n",
    "        print(num_cols)\n",
    "        data_a = []\n",
    "        data_b = []\n",
    "        \n",
    "        if isinstance(table[0][i], str)==True: #Check if theres a string in column i row 0\n",
    "            for l in table.columns[i]:\n",
    "                print(l)\n",
    "                string = l.replace(u'\\xa0', u'') #Unicode space characters are popping up when parsing the html\n",
    "                \n",
    "                if '–' in string:\n",
    "                    sep_data_a, sep_data_b = 'NaN', 'NaN'\n",
    "                    sep_data_a, sep_data_b = float(sep_data_a), float(sep_data_b) #Convert to float (nan)\n",
    "                    data_a.append(sep_data_a)\n",
    "                    data_b.append(sep_data_b)\n",
    "                    \n",
    "                if '±' in string:\n",
    "                    sep_data_a, sep_data_b = l.split('±') #Separate the data\n",
    "                    sep_data_a, sep_data_b = float(sep_data_a), float(sep_data_b) #Convert to float\n",
    "\n",
    "                    data_a.append(sep_data_a)\n",
    "                    data_b.append(sep_data_b)\n",
    "                \n",
    "            col_a = Column(data_a, name=str(table.colnames[i])+'band') #Make a new column for the data\n",
    "            col_b = Column(data_b, name='Δ'+str(table.colnames[i])) #Make a new column for the errors\n",
    "            \n",
    "            table.add_column(col_a) #Add the data into its own column\n",
    "            table.add_column(col_b) #Add the error to its own column\n",
    "            \n",
    "            to_delete.append(table.colnames[i])#Record that this column should be deleted.\n",
    "    \n",
    "    #Drop the appropriate columns one at a time\n",
    "    for k in to_delete:\n",
    "        print(k)\n",
    "        table.remove_column(k) #Remove the columns that are being split\n",
    "    \n",
    "pm_remover(data)"
   ]
  },
  {
   "cell_type": "code",
   "execution_count": null,
   "id": "29926cbd",
   "metadata": {},
   "outputs": [],
   "source": [
    "data"
   ]
  },
  {
   "cell_type": "code",
   "execution_count": null,
   "id": "868b6ad2",
   "metadata": {},
   "outputs": [],
   "source": [
    "float('NaN')"
   ]
  },
  {
   "cell_type": "markdown",
   "id": "d3989f00",
   "metadata": {},
   "source": [
    "# Making FITS files from table objects"
   ]
  },
  {
   "cell_type": "code",
   "execution_count": null,
   "id": "d37dacd8",
   "metadata": {},
   "outputs": [],
   "source": [
    "data.write('GRB161219B-2016jca.fits', format='ascii', overwrite=True)"
   ]
  },
  {
   "cell_type": "code",
   "execution_count": null,
   "id": "8c4d1333",
   "metadata": {},
   "outputs": [],
   "source": [
    "data.read('GRB161219B-2016jca.fits', format='ascii')"
   ]
  },
  {
   "cell_type": "code",
   "execution_count": null,
   "id": "5b3d8edb",
   "metadata": {},
   "outputs": [],
   "source": [
    "hdul = fits.open('GRB161219B-2016jca.fits')"
   ]
  },
  {
   "cell_type": "markdown",
   "id": "b09401a5",
   "metadata": {},
   "source": [
    "# Template fits file"
   ]
  },
  {
   "cell_type": "code",
   "execution_count": null,
   "id": "f948b20a",
   "metadata": {},
   "outputs": [],
   "source": []
  }
 ],
 "metadata": {
  "kernelspec": {
   "display_name": "Python 3",
   "language": "python",
   "name": "python3"
  },
  "language_info": {
   "codemirror_mode": {
    "name": "ipython",
    "version": 3
   },
   "file_extension": ".py",
   "mimetype": "text/x-python",
   "name": "python",
   "nbconvert_exporter": "python",
   "pygments_lexer": "ipython3",
   "version": "3.8.10"
  }
 },
 "nbformat": 4,
 "nbformat_minor": 5
}

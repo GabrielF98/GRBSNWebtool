{
 "cells": [
  {
   "cell_type": "code",
   "execution_count": 1,
   "id": "5f222e4f",
   "metadata": {},
   "outputs": [],
   "source": [
    "import numpy as np\n",
    "from astropy.io import ascii, fits\n",
    "from astropy.table import Table, Column\n",
    "import pandas as pd"
   ]
  },
  {
   "cell_type": "markdown",
   "id": "89bc29dc",
   "metadata": {},
   "source": [
    "# Reading HTML table files"
   ]
  },
  {
   "cell_type": "code",
   "execution_count": 2,
   "id": "8db644c5",
   "metadata": {},
   "outputs": [],
   "source": [
    "file='GRB161219B-2016jca/GRB161219B-2016jca_Optical1.html'"
   ]
  },
  {
   "cell_type": "code",
   "execution_count": 3,
   "id": "8a8bde2f",
   "metadata": {
    "scrolled": true
   },
   "outputs": [
    {
     "name": "stdout",
     "output_type": "stream",
     "text": [
      "1\n",
      "57744.08\n"
     ]
    },
    {
     "data": {
      "text/html": [
       "<i>Table length=29</i>\n",
       "<table id=\"table140441786507120\" class=\"table-striped table-bordered table-condensed\">\n",
       "<thead><tr><th>MJD\n",
       "            .</th><th>B\n",
       "            .</th><th>V\n",
       "            .</th><th>R\n",
       "            .</th><th>I\n",
       "            .</th><th>g\n",
       "            .</th><th>r\n",
       "            .</th><th>i\n",
       "            .</th><th>Telescope\n",
       "            .</th></tr></thead>\n",
       "<thead><tr><th>float64</th><th>str12</th><th>str12</th><th>str12</th><th>str12</th><th>str12</th><th>str13</th><th>str12</th><th>str4</th></tr></thead>\n",
       "<tr><td>57744.08</td><td>19.83 ± 0.01</td><td>19.66 ± 0.01</td><td>19.39 ± 0.01</td><td>18.89 ± 0.00</td><td>–</td><td>–</td><td>–</td><td>VLT</td></tr>\n",
       "<tr><td>57746.08</td><td>20.04 ± 0.01</td><td>19.84 ± 0.01</td><td>19.74 ± 0.01</td><td>19.33 ± 0.01</td><td>–</td><td>–</td><td>–</td><td>VLT</td></tr>\n",
       "<tr><td>57748.12</td><td>20.24 ± 0.01</td><td>19.82 ± 0.01</td><td>19.73 ± 0.01</td><td>19.48 ± 0.01</td><td>–</td><td>–</td><td>–</td><td>VLT</td></tr>\n",
       "<tr><td>57749.03</td><td>20.21 ± 0.03</td><td>19.65 ± 0.10</td><td>19.53 ± 0.02</td><td>19.35 ± 0.05</td><td>–</td><td>–</td><td>–</td><td>TNG</td></tr>\n",
       "<tr><td>57749.99</td><td>20.18 ± 0.13</td><td>19.8 ± 0.2</td><td>–</td><td>–</td><td>19.81 ± 0.05</td><td>19.63 ± 0.07</td><td>19.80 ± 0.03</td><td>LT</td></tr>\n",
       "<tr><td>57750.0</td><td>–</td><td>19.8 ± 0.2</td><td>–</td><td>–</td><td>19.80 ± 0.05</td><td>19.63 ± 0.07</td><td>19.80 ± 0.03</td><td>LT</td></tr>\n",
       "<tr><td>57751.09</td><td>20.46 ± 0.01</td><td>19.79 ± 0.01</td><td>19.64 ± 0.01</td><td>19.44 ± 0.01</td><td>–</td><td>–</td><td>–</td><td>VLT</td></tr>\n",
       "<tr><td>57751.98</td><td>–</td><td>19.63 ± 0.05</td><td>–</td><td>–</td><td>19.92 ± 0.05</td><td>19.54 ± 0.09</td><td>19.76 ± 0.08</td><td>LT</td></tr>\n",
       "<tr><td>57751.99</td><td>–</td><td>19.63 ± 0.05</td><td>–</td><td>–</td><td>19.92 ± 0.05</td><td>19.54 ± 0.09</td><td>19.75 ± 0.08</td><td>LT</td></tr>\n",
       "<tr><td>57753.99</td><td>20.52 ± 0.21</td><td>19.77 ± 0.06</td><td>19.43 ± 0.06</td><td>19.35 ± 0.12</td><td>–</td><td>–</td><td>–</td><td>TNG</td></tr>\n",
       "<tr><td>...</td><td>...</td><td>...</td><td>...</td><td>...</td><td>...</td><td>...</td><td>...</td><td>...</td></tr>\n",
       "<tr><td>57763.26</td><td>21.58 ± 0.06</td><td>20.33 ± 0.02</td><td>19.73 ± 0.01</td><td>19.47 ± 0.01</td><td>–</td><td>–</td><td>–</td><td>VLT</td></tr>\n",
       "<tr><td>57767.17</td><td>–</td><td>20.51 ± 0.03</td><td>19.97 ± 0.02</td><td>19.61 ± 0.02</td><td>–</td><td>–</td><td>–</td><td>VLT</td></tr>\n",
       "<tr><td>57769.98</td><td>–</td><td>–</td><td>–</td><td>–</td><td>–</td><td>20.35 ± 0.05</td><td>20.05 ± 0.02</td><td>LT</td></tr>\n",
       "<tr><td>57770.91</td><td>–</td><td>–</td><td>–</td><td>–</td><td>–</td><td>20.33 ± 0.04</td><td>20.11 ± 0.02</td><td>LT</td></tr>\n",
       "<tr><td>57772.04</td><td>21.98 ± 0.01</td><td>20.93 ± 0.01</td><td>20.25 ± 0.01</td><td>19.82 ± 0.01</td><td>–</td><td>–</td><td>–</td><td>VLT</td></tr>\n",
       "<tr><td>57772.91</td><td>–</td><td>–</td><td>–</td><td>–</td><td>–</td><td>20.50 ± 0.042</td><td>20.22 ± 0.02</td><td>LT</td></tr>\n",
       "<tr><td>57778.88</td><td>–</td><td>–</td><td>–</td><td>–</td><td>–</td><td>20.52 ± 0.07</td><td>20.27 ± 0.03</td><td>LT</td></tr>\n",
       "<tr><td>57779.22</td><td>22.17 ± 0.02</td><td>21.23 ± 0.02</td><td>20.56 ± 0.01</td><td>20.08 ± 0.01</td><td>–</td><td>–</td><td>–</td><td>VLT</td></tr>\n",
       "<tr><td>57779.92</td><td>–</td><td>–</td><td>–</td><td>–</td><td>–</td><td>20.73 ± 0.03</td><td>20.45 ± 0.03</td><td>LT</td></tr>\n",
       "<tr><td>57836.04</td><td>22.64 ± 0.03</td><td>–</td><td>21.24 ± 0.01</td><td>–</td><td>–</td><td>–</td><td>–</td><td>VLT</td></tr>\n",
       "</table>"
      ],
      "text/plain": [
       "<Table length=29>\n",
       "MJD\n",
       "            . B\n",
       "            . ... i\n",
       "            . Telescope\n",
       "            .\n",
       "     float64           str12      ...      str12                str4         \n",
       "----------------- --------------- ... --------------- -----------------------\n",
       "         57744.08    19.83 ± 0.01 ...               –                     VLT\n",
       "         57746.08    20.04 ± 0.01 ...               –                     VLT\n",
       "         57748.12    20.24 ± 0.01 ...               –                     VLT\n",
       "         57749.03    20.21 ± 0.03 ...               –                     TNG\n",
       "         57749.99    20.18 ± 0.13 ...    19.80 ± 0.03                      LT\n",
       "          57750.0               – ...    19.80 ± 0.03                      LT\n",
       "         57751.09    20.46 ± 0.01 ...               –                     VLT\n",
       "         57751.98               – ...    19.76 ± 0.08                      LT\n",
       "         57751.99               – ...    19.75 ± 0.08                      LT\n",
       "         57753.99    20.52 ± 0.21 ...               –                     TNG\n",
       "              ...             ... ...             ...                     ...\n",
       "         57763.26    21.58 ± 0.06 ...               –                     VLT\n",
       "         57767.17               – ...               –                     VLT\n",
       "         57769.98               – ...    20.05 ± 0.02                      LT\n",
       "         57770.91               – ...    20.11 ± 0.02                      LT\n",
       "         57772.04    21.98 ± 0.01 ...               –                     VLT\n",
       "         57772.91               – ...    20.22 ± 0.02                      LT\n",
       "         57778.88               – ...    20.27 ± 0.03                      LT\n",
       "         57779.22    22.17 ± 0.02 ...               –                     VLT\n",
       "         57779.92               – ...    20.45 ± 0.03                      LT\n",
       "         57836.04    22.64 ± 0.03 ...               –                     VLT"
      ]
     },
     "execution_count": 3,
     "metadata": {},
     "output_type": "execute_result"
    }
   ],
   "source": [
    "def check_float(potential_float):\n",
    "    try:\n",
    "        float(potential_float) #Try to convert argument into a float\n",
    "        return True\n",
    "    except ValueError:\n",
    "        return False\n",
    "\n",
    "n=0\n",
    "k=-1\n",
    "for i in range(0, 6):\n",
    "    #Read in the file changing where the data starts\n",
    "    data = ascii.read(file, format='html', data_start=i)\n",
    "    \n",
    "    \n",
    "    #find the first row that has a column value that works as a float\n",
    "    for j in range(len(data.columns)):\n",
    "        if check_float(data[0][j])==True:\n",
    "            print(i)\n",
    "            print(data[0][j])\n",
    "            k = i\n",
    "            break\n",
    "    if k==i:\n",
    "        break\n",
    "    n=i\n",
    "    \n",
    "#Get the actual data with the correct data start value    \n",
    "data = ascii.read(file, format='html', data_start=k, encoding='utf-8')\n",
    "data"
   ]
  },
  {
   "cell_type": "markdown",
   "id": "02bb5b79",
   "metadata": {},
   "source": [
    "# Cleaning up the data\n",
    "\n",
    "* I want the pm_remover() to:\n",
    "\n",
    "    * Take a table as input\n",
    "    * Check if there are pm values in the rows\n",
    "    * If there are then split that row into data and errors\n",
    "    * Append the new error row to the table whilst overwriting the old row with the float data\n",
    "    * Return the table"
   ]
  },
  {
   "cell_type": "code",
   "execution_count": 19,
   "id": "896bb94c",
   "metadata": {
    "scrolled": true
   },
   "outputs": [
    {
     "name": "stdout",
     "output_type": "stream",
     "text": [
      "1\n"
     ]
    },
    {
     "ename": "TypeError",
     "evalue": "slice indices must be integers or None or have an __index__ method",
     "output_type": "error",
     "traceback": [
      "\u001b[0;31m---------------------------------------------------------------------------\u001b[0m",
      "\u001b[0;31mTypeError\u001b[0m                                 Traceback (most recent call last)",
      "\u001b[0;32m<ipython-input-19-18d81b5575fa>\u001b[0m in \u001b[0;36m<module>\u001b[0;34m\u001b[0m\n\u001b[1;32m     31\u001b[0m             \u001b[0mtable\u001b[0m\u001b[0;34m.\u001b[0m\u001b[0madd_column\u001b[0m\u001b[0;34m(\u001b[0m\u001b[0mcol_b\u001b[0m\u001b[0;34m,\u001b[0m \u001b[0mindex\u001b[0m\u001b[0;34m=\u001b[0m\u001b[0;34m[\u001b[0m\u001b[0;36m0\u001b[0m\u001b[0;34m]\u001b[0m\u001b[0;34m)\u001b[0m\u001b[0;34m\u001b[0m\u001b[0;34m\u001b[0m\u001b[0m\n\u001b[1;32m     32\u001b[0m \u001b[0;34m\u001b[0m\u001b[0m\n\u001b[0;32m---> 33\u001b[0;31m \u001b[0mpm_remover\u001b[0m\u001b[0;34m(\u001b[0m\u001b[0mdata\u001b[0m\u001b[0;34m)\u001b[0m\u001b[0;34m\u001b[0m\u001b[0;34m\u001b[0m\u001b[0m\n\u001b[0m",
      "\u001b[0;32m<ipython-input-19-18d81b5575fa>\u001b[0m in \u001b[0;36mpm_remover\u001b[0;34m(table)\u001b[0m\n\u001b[1;32m     28\u001b[0m             \u001b[0mprint\u001b[0m\u001b[0;34m(\u001b[0m\u001b[0mi\u001b[0m\u001b[0;34m)\u001b[0m\u001b[0;34m\u001b[0m\u001b[0;34m\u001b[0m\u001b[0m\n\u001b[1;32m     29\u001b[0m             \u001b[0mtable\u001b[0m\u001b[0;34m.\u001b[0m\u001b[0mremove_column\u001b[0m\u001b[0;34m(\u001b[0m\u001b[0mtable\u001b[0m\u001b[0;34m.\u001b[0m\u001b[0mcolnames\u001b[0m\u001b[0;34m[\u001b[0m\u001b[0mi\u001b[0m\u001b[0;34m]\u001b[0m\u001b[0;34m)\u001b[0m\u001b[0;34m\u001b[0m\u001b[0;34m\u001b[0m\u001b[0m\n\u001b[0;32m---> 30\u001b[0;31m             \u001b[0mtable\u001b[0m\u001b[0;34m.\u001b[0m\u001b[0madd_column\u001b[0m\u001b[0;34m(\u001b[0m\u001b[0mcol_a\u001b[0m\u001b[0;34m,\u001b[0m \u001b[0mindex\u001b[0m\u001b[0;34m=\u001b[0m\u001b[0;34m[\u001b[0m\u001b[0;36m0\u001b[0m\u001b[0;34m]\u001b[0m\u001b[0;34m)\u001b[0m\u001b[0;34m\u001b[0m\u001b[0;34m\u001b[0m\u001b[0m\n\u001b[0m\u001b[1;32m     31\u001b[0m             \u001b[0mtable\u001b[0m\u001b[0;34m.\u001b[0m\u001b[0madd_column\u001b[0m\u001b[0;34m(\u001b[0m\u001b[0mcol_b\u001b[0m\u001b[0;34m,\u001b[0m \u001b[0mindex\u001b[0m\u001b[0;34m=\u001b[0m\u001b[0;34m[\u001b[0m\u001b[0;36m0\u001b[0m\u001b[0;34m]\u001b[0m\u001b[0;34m)\u001b[0m\u001b[0;34m\u001b[0m\u001b[0;34m\u001b[0m\u001b[0m\n\u001b[1;32m     32\u001b[0m \u001b[0;34m\u001b[0m\u001b[0m\n",
      "\u001b[0;32m/opt/anaconda3/lib/python3.8/site-packages/astropy/table/table.py\u001b[0m in \u001b[0;36madd_column\u001b[0;34m(self, col, index, name, rename_duplicate, copy, default_name)\u001b[0m\n\u001b[1;32m   1994\u001b[0m         \u001b[0;32mif\u001b[0m \u001b[0mindex\u001b[0m \u001b[0;32mis\u001b[0m \u001b[0;32mnot\u001b[0m \u001b[0;32mNone\u001b[0m\u001b[0;34m:\u001b[0m\u001b[0;34m\u001b[0m\u001b[0;34m\u001b[0m\u001b[0m\n\u001b[1;32m   1995\u001b[0m             \u001b[0;31m# Move the other cols to the right of the new one\u001b[0m\u001b[0;34m\u001b[0m\u001b[0;34m\u001b[0m\u001b[0;34m\u001b[0m\u001b[0m\n\u001b[0;32m-> 1996\u001b[0;31m             \u001b[0mmove_names\u001b[0m \u001b[0;34m=\u001b[0m \u001b[0mself\u001b[0m\u001b[0;34m.\u001b[0m\u001b[0mcolnames\u001b[0m\u001b[0;34m[\u001b[0m\u001b[0mindex\u001b[0m\u001b[0;34m:\u001b[0m\u001b[0;34m-\u001b[0m\u001b[0;36m1\u001b[0m\u001b[0;34m]\u001b[0m\u001b[0;34m\u001b[0m\u001b[0;34m\u001b[0m\u001b[0m\n\u001b[0m\u001b[1;32m   1997\u001b[0m             \u001b[0;32mfor\u001b[0m \u001b[0mmove_name\u001b[0m \u001b[0;32min\u001b[0m \u001b[0mmove_names\u001b[0m\u001b[0;34m:\u001b[0m\u001b[0;34m\u001b[0m\u001b[0;34m\u001b[0m\u001b[0m\n\u001b[1;32m   1998\u001b[0m                 \u001b[0mself\u001b[0m\u001b[0;34m.\u001b[0m\u001b[0mcolumns\u001b[0m\u001b[0;34m.\u001b[0m\u001b[0mmove_to_end\u001b[0m\u001b[0;34m(\u001b[0m\u001b[0mmove_name\u001b[0m\u001b[0;34m,\u001b[0m \u001b[0mlast\u001b[0m\u001b[0;34m=\u001b[0m\u001b[0;32mTrue\u001b[0m\u001b[0;34m)\u001b[0m\u001b[0;34m\u001b[0m\u001b[0;34m\u001b[0m\u001b[0m\n",
      "\u001b[0;31mTypeError\u001b[0m: slice indices must be integers or None or have an __index__ method"
     ]
    }
   ],
   "source": [
    "# Need a way to make the columns that should be floats into floats\n",
    "def pm_remover(table): #Should separate columns containing ± into data and error\n",
    "    num_cols = len(table.columns) # Get the number of columns\n",
    "    for i in range(num_cols): #Iterate over those columns\n",
    "        data_a = []\n",
    "        data_b = []\n",
    "        \n",
    "        if isinstance(table[0][i], str)==True: #Check if theres a string in column i row 0\n",
    "            for l in table.columns[i]:\n",
    "                string = l.replace(u'\\xa0', u'') #Unicode space characters are popping up when parsing the html\n",
    "                \n",
    "                if '–' in string:\n",
    "                    sep_data_a, sep_data_b = 'NaN', 'NaN'\n",
    "                    sep_data_a, sep_data_b = float(sep_data_a), float(sep_data_b) #Convert to float (nan)\n",
    "                    data_a.append(sep_data_a)\n",
    "                    data_b.append(sep_data_b)\n",
    "                    \n",
    "                if '±' in string:\n",
    "                    sep_data_a, sep_data_b = l.split('±') #Separate the data\n",
    "                    sep_data_a, sep_data_b = float(sep_data_a), float(sep_data_b) #Convert to float\n",
    "\n",
    "                    data_a.append(sep_data_a)\n",
    "                    data_b.append(sep_data_b)\n",
    "                        \n",
    "            col_a = Column(data_a, name=str(table.colnames[i])) #Make a new column for the data\n",
    "            col_b = Column(data_b, name='Δ'+str(table.colnames[i])) #Make a new column for the errors\n",
    "\n",
    "            table.remove_column(table.colnames[i]) #Remove the column that is being split\n",
    "            table.add_column(col_a, index=[0]) #Add the data into its own column\n",
    "            table.add_column(col_b, index=[0]) #Add the error to its own column\n",
    "            \n",
    "pm_remover(data)"
   ]
  },
  {
   "cell_type": "code",
   "execution_count": 20,
   "id": "29926cbd",
   "metadata": {},
   "outputs": [
    {
     "data": {
      "text/html": [
       "<i>Table length=29</i>\n",
       "<table id=\"table140441786507120\" class=\"table-striped table-bordered table-condensed\">\n",
       "<thead><tr><th>MJD\n",
       "            .</th><th>Telescope\n",
       "            .</th><th>B\n",
       "            .</th><th>V\n",
       "            .</th><th>R\n",
       "            .</th><th>I\n",
       "            .</th><th>g\n",
       "            .</th><th>r\n",
       "            .</th><th>i\n",
       "            .</th></tr></thead>\n",
       "<thead><tr><th>float64</th><th>str4</th><th>float64</th><th>float64</th><th>float64</th><th>float64</th><th>float64</th><th>float64</th><th>float64</th></tr></thead>\n",
       "<tr><td>57744.08</td><td>VLT</td><td>19.83</td><td>19.66</td><td>19.39</td><td>18.89</td><td>nan</td><td>nan</td><td>nan</td></tr>\n",
       "<tr><td>57746.08</td><td>VLT</td><td>20.04</td><td>19.84</td><td>19.74</td><td>19.33</td><td>nan</td><td>nan</td><td>nan</td></tr>\n",
       "<tr><td>57748.12</td><td>VLT</td><td>20.24</td><td>19.82</td><td>19.73</td><td>19.48</td><td>nan</td><td>nan</td><td>nan</td></tr>\n",
       "<tr><td>57749.03</td><td>TNG</td><td>20.21</td><td>19.65</td><td>19.53</td><td>19.35</td><td>nan</td><td>nan</td><td>nan</td></tr>\n",
       "<tr><td>57749.99</td><td>LT</td><td>20.18</td><td>19.8</td><td>nan</td><td>nan</td><td>19.81</td><td>19.63</td><td>19.8</td></tr>\n",
       "<tr><td>57750.0</td><td>LT</td><td>nan</td><td>19.8</td><td>nan</td><td>nan</td><td>19.8</td><td>19.63</td><td>19.8</td></tr>\n",
       "<tr><td>57751.09</td><td>VLT</td><td>20.46</td><td>19.79</td><td>19.64</td><td>19.44</td><td>nan</td><td>nan</td><td>nan</td></tr>\n",
       "<tr><td>57751.98</td><td>LT</td><td>nan</td><td>19.63</td><td>nan</td><td>nan</td><td>19.92</td><td>19.54</td><td>19.76</td></tr>\n",
       "<tr><td>57751.99</td><td>LT</td><td>nan</td><td>19.63</td><td>nan</td><td>nan</td><td>19.92</td><td>19.54</td><td>19.75</td></tr>\n",
       "<tr><td>57753.99</td><td>TNG</td><td>20.52</td><td>19.77</td><td>19.43</td><td>19.35</td><td>nan</td><td>nan</td><td>nan</td></tr>\n",
       "<tr><td>...</td><td>...</td><td>...</td><td>...</td><td>...</td><td>...</td><td>...</td><td>...</td><td>...</td></tr>\n",
       "<tr><td>57763.26</td><td>VLT</td><td>21.58</td><td>20.33</td><td>19.73</td><td>19.47</td><td>nan</td><td>nan</td><td>nan</td></tr>\n",
       "<tr><td>57767.17</td><td>VLT</td><td>nan</td><td>20.51</td><td>19.97</td><td>19.61</td><td>nan</td><td>nan</td><td>nan</td></tr>\n",
       "<tr><td>57769.98</td><td>LT</td><td>nan</td><td>nan</td><td>nan</td><td>nan</td><td>nan</td><td>20.35</td><td>20.05</td></tr>\n",
       "<tr><td>57770.91</td><td>LT</td><td>nan</td><td>nan</td><td>nan</td><td>nan</td><td>nan</td><td>20.33</td><td>20.11</td></tr>\n",
       "<tr><td>57772.04</td><td>VLT</td><td>21.98</td><td>20.93</td><td>20.25</td><td>19.82</td><td>nan</td><td>nan</td><td>nan</td></tr>\n",
       "<tr><td>57772.91</td><td>LT</td><td>nan</td><td>nan</td><td>nan</td><td>nan</td><td>nan</td><td>20.5</td><td>20.22</td></tr>\n",
       "<tr><td>57778.88</td><td>LT</td><td>nan</td><td>nan</td><td>nan</td><td>nan</td><td>nan</td><td>20.52</td><td>20.27</td></tr>\n",
       "<tr><td>57779.22</td><td>VLT</td><td>22.17</td><td>21.23</td><td>20.56</td><td>20.08</td><td>nan</td><td>nan</td><td>nan</td></tr>\n",
       "<tr><td>57779.92</td><td>LT</td><td>nan</td><td>nan</td><td>nan</td><td>nan</td><td>nan</td><td>20.73</td><td>20.45</td></tr>\n",
       "<tr><td>57836.04</td><td>VLT</td><td>22.64</td><td>nan</td><td>21.24</td><td>nan</td><td>nan</td><td>nan</td><td>nan</td></tr>\n",
       "</table>"
      ],
      "text/plain": [
       "<Table length=29>\n",
       "MJD\n",
       "            . Telescope\n",
       "            . ... r\n",
       "            . i\n",
       "            .\n",
       "     float64                str4          ...     float64         float64    \n",
       "----------------- ----------------------- ... --------------- ---------------\n",
       "         57744.08                     VLT ...             nan             nan\n",
       "         57746.08                     VLT ...             nan             nan\n",
       "         57748.12                     VLT ...             nan             nan\n",
       "         57749.03                     TNG ...             nan             nan\n",
       "         57749.99                      LT ...           19.63            19.8\n",
       "          57750.0                      LT ...           19.63            19.8\n",
       "         57751.09                     VLT ...             nan             nan\n",
       "         57751.98                      LT ...           19.54           19.76\n",
       "         57751.99                      LT ...           19.54           19.75\n",
       "         57753.99                     TNG ...             nan             nan\n",
       "              ...                     ... ...             ...             ...\n",
       "         57763.26                     VLT ...             nan             nan\n",
       "         57767.17                     VLT ...             nan             nan\n",
       "         57769.98                      LT ...           20.35           20.05\n",
       "         57770.91                      LT ...           20.33           20.11\n",
       "         57772.04                     VLT ...             nan             nan\n",
       "         57772.91                      LT ...            20.5           20.22\n",
       "         57778.88                      LT ...           20.52           20.27\n",
       "         57779.22                     VLT ...             nan             nan\n",
       "         57779.92                      LT ...           20.73           20.45\n",
       "         57836.04                     VLT ...             nan             nan"
      ]
     },
     "execution_count": 20,
     "metadata": {},
     "output_type": "execute_result"
    }
   ],
   "source": [
    "data"
   ]
  },
  {
   "cell_type": "code",
   "execution_count": null,
   "id": "868b6ad2",
   "metadata": {},
   "outputs": [],
   "source": [
    "float('NaN')"
   ]
  },
  {
   "cell_type": "markdown",
   "id": "d3989f00",
   "metadata": {},
   "source": [
    "# Making FITS files from table objects"
   ]
  },
  {
   "cell_type": "code",
   "execution_count": null,
   "id": "d37dacd8",
   "metadata": {},
   "outputs": [],
   "source": [
    "data.write('GRB161219B-2016jca.fits', format='ascii', overwrite=True)"
   ]
  },
  {
   "cell_type": "code",
   "execution_count": null,
   "id": "8c4d1333",
   "metadata": {},
   "outputs": [],
   "source": [
    "data.read('GRB161219B-2016jca.fits', format='ascii')"
   ]
  },
  {
   "cell_type": "code",
   "execution_count": null,
   "id": "5b3d8edb",
   "metadata": {},
   "outputs": [],
   "source": [
    "hdul = fits.open('GRB161219B-2016jca.fits')"
   ]
  },
  {
   "cell_type": "markdown",
   "id": "b09401a5",
   "metadata": {},
   "source": [
    "# Template fits file"
   ]
  },
  {
   "cell_type": "code",
   "execution_count": null,
   "id": "f948b20a",
   "metadata": {},
   "outputs": [],
   "source": []
  }
 ],
 "metadata": {
  "kernelspec": {
   "display_name": "Python 3",
   "language": "python",
   "name": "python3"
  },
  "language_info": {
   "codemirror_mode": {
    "name": "ipython",
    "version": 3
   },
   "file_extension": ".py",
   "mimetype": "text/x-python",
   "name": "python",
   "nbconvert_exporter": "python",
   "pygments_lexer": "ipython3",
   "version": "3.8.10"
  }
 },
 "nbformat": 4,
 "nbformat_minor": 5
}

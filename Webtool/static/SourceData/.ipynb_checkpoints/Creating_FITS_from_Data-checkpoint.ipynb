{
 "cells": [
  {
   "cell_type": "code",
   "execution_count": 1,
   "id": "4ddca789",
   "metadata": {},
   "outputs": [],
   "source": [
    "import numpy as np\n",
    "from astropy.io import ascii\n",
    "import pandas as pd"
   ]
  },
  {
   "cell_type": "code",
   "execution_count": 2,
   "id": "b5e657a6",
   "metadata": {},
   "outputs": [],
   "source": [
    "file='GRB130427A-SN2013cq/GRB130427A-SN2013cq_Xray1.html'"
   ]
  },
  {
   "cell_type": "code",
   "execution_count": 23,
   "id": "c98e1d73",
   "metadata": {
    "scrolled": false
   },
   "outputs": [
    {
     "name": "stdout",
     "output_type": "stream",
     "text": [
      "1.38\n",
      "4.66\n",
      "17.5\n",
      "25.06\n",
      "5\n"
     ]
    }
   ],
   "source": [
    "def check_float(potential_float):\n",
    "    try:\n",
    "        float(potential_float) #Try to convert argument into a float\n",
    "        return True\n",
    "    except ValueError:\n",
    "        return False\n",
    "\n",
    "n=0\n",
    "for i in range(0, 6):\n",
    "    #Read in the file changing where the data starts\n",
    "    data = ascii.read(file, format='html', data_start=i)\n",
    "    \n",
    "    \n",
    "    #find the first row that has a column value that works as a float\n",
    "    for j in range(len(data.columns)):\n",
    "        if check_float(data[0][j])==True:\n",
    "            print(data[0][j])\n",
    "            break\n",
    "    n=i\n",
    "print(data_start)"
   ]
  },
  {
   "cell_type": "code",
   "execution_count": 8,
   "id": "611a3c14",
   "metadata": {},
   "outputs": [],
   "source": [
    "data = ascii.read(file, format='html', data_start=2)"
   ]
  },
  {
   "cell_type": "code",
   "execution_count": 9,
   "id": "cf131366",
   "metadata": {},
   "outputs": [
    {
     "data": {
      "text/plain": [
       "'3.54 ± 0.84'"
      ]
     },
     "execution_count": 9,
     "metadata": {},
     "output_type": "execute_result"
    }
   ],
   "source": [
    "data[6][2]"
   ]
  },
  {
   "cell_type": "code",
   "execution_count": 10,
   "id": "eea368dd",
   "metadata": {},
   "outputs": [
    {
     "data": {
      "text/html": [
       "<i>Table length=7</i>\n",
       "<table id=\"table140308008733232\" class=\"table-striped table-bordered table-condensed\">\n",
       "<thead><tr><th>T–T0\n",
       "            .</th><th>Facility\n",
       "            .</th><th>Flux\n",
       "            .</th></tr></thead>\n",
       "<thead><tr><th>float64</th><th>str10</th><th>str13</th></tr></thead>\n",
       "<tr><td>1.38</td><td>XMM–Newton</td><td>849.94 ± 0.85</td></tr>\n",
       "<tr><td>4.66</td><td>XMM–Newton</td><td>165.62 ± 4.97</td></tr>\n",
       "<tr><td>17.5</td><td>XMM–Newton</td><td>26.57 ± 2.15</td></tr>\n",
       "<tr><td>25.06</td><td>Chandra</td><td>16.74 ± 3.16</td></tr>\n",
       "<tr><td>36.31</td><td>Chandra</td><td>12.12 ± 2.11</td></tr>\n",
       "<tr><td>66.06</td><td>XMM–Newton</td><td>5.00 ± 0.81</td></tr>\n",
       "<tr><td>83.45</td><td>XMM–Newton</td><td>3.54 ± 0.84</td></tr>\n",
       "</table>"
      ],
      "text/plain": [
       "<Table length=7>\n",
       "T–T0\n",
       "            . Facility\n",
       "            . Flux\n",
       "            .\n",
       "     float64               str10                str13       \n",
       "------------------ ---------------------- ------------------\n",
       "              1.38             XMM–Newton      849.94 ± 0.85\n",
       "              4.66             XMM–Newton      165.62 ± 4.97\n",
       "              17.5             XMM–Newton       26.57 ± 2.15\n",
       "             25.06                Chandra       16.74 ± 3.16\n",
       "             36.31                Chandra       12.12 ± 2.11\n",
       "             66.06             XMM–Newton        5.00 ± 0.81\n",
       "             83.45             XMM–Newton        3.54 ± 0.84"
      ]
     },
     "execution_count": 10,
     "metadata": {},
     "output_type": "execute_result"
    }
   ],
   "source": [
    "data"
   ]
  },
  {
   "cell_type": "code",
   "execution_count": null,
   "id": "b333cb58",
   "metadata": {},
   "outputs": [],
   "source": []
  }
 ],
 "metadata": {
  "kernelspec": {
   "display_name": "Python 3",
   "language": "python",
   "name": "python3"
  },
  "language_info": {
   "codemirror_mode": {
    "name": "ipython",
    "version": 3
   },
   "file_extension": ".py",
   "mimetype": "text/x-python",
   "name": "python",
   "nbconvert_exporter": "python",
   "pygments_lexer": "ipython3",
   "version": "3.8.10"
  }
 },
 "nbformat": 4,
 "nbformat_minor": 5
}

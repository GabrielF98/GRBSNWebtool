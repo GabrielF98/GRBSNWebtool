{
 "cells": [
  {
   "cell_type": "code",
   "execution_count": 1,
   "id": "3b64be54",
   "metadata": {},
   "outputs": [],
   "source": [
    "import pandas as pd\n",
    "import numpy as np"
   ]
  },
  {
   "cell_type": "code",
   "execution_count": 2,
   "id": "71962eca",
   "metadata": {},
   "outputs": [],
   "source": [
    "#Enter the filename\n",
    "name = \"GRB190829A-AT2019oyw/\"\n",
    "file = \"GRB190829A-AT2019oyw_Optical_1\""
   ]
  },
  {
   "cell_type": "code",
   "execution_count": 3,
   "id": "1feae13d",
   "metadata": {},
   "outputs": [],
   "source": [
    "#Read a html file into a panda\n",
    "df = pd.read_html(name+file+\".html\", header=[0,1])\n",
    "df = df[0]"
   ]
  },
  {
   "cell_type": "code",
   "execution_count": 4,
   "id": "1251ef9d",
   "metadata": {},
   "outputs": [],
   "source": [
    "#rename \n",
    "df.columns = ['time [MJD]', 'phase [d]', 'exp. time [s]', 'filter', 'mag [AB]', 'error [AB]']"
   ]
  },
  {
   "cell_type": "code",
   "execution_count": 5,
   "id": "0d12e1fc",
   "metadata": {},
   "outputs": [
    {
     "data": {
      "text/html": [
       "<div>\n",
       "<style scoped>\n",
       "    .dataframe tbody tr th:only-of-type {\n",
       "        vertical-align: middle;\n",
       "    }\n",
       "\n",
       "    .dataframe tbody tr th {\n",
       "        vertical-align: top;\n",
       "    }\n",
       "\n",
       "    .dataframe thead th {\n",
       "        text-align: right;\n",
       "    }\n",
       "</style>\n",
       "<table border=\"1\" class=\"dataframe\">\n",
       "  <thead>\n",
       "    <tr style=\"text-align: right;\">\n",
       "      <th></th>\n",
       "      <th>time [MJD]</th>\n",
       "      <th>phase [d]</th>\n",
       "      <th>exp. time [s]</th>\n",
       "      <th>filter</th>\n",
       "      <th>mag [AB]</th>\n",
       "      <th>error [AB]</th>\n",
       "    </tr>\n",
       "  </thead>\n",
       "  <tbody>\n",
       "    <tr>\n",
       "      <th>0</th>\n",
       "      <td>58725.195050</td>\n",
       "      <td>0.365</td>\n",
       "      <td>120</td>\n",
       "      <td>u</td>\n",
       "      <td>21.77</td>\n",
       "      <td>0.05</td>\n",
       "    </tr>\n",
       "    <tr>\n",
       "      <th>1</th>\n",
       "      <td>58726.186209</td>\n",
       "      <td>1.381</td>\n",
       "      <td>120 × 4</td>\n",
       "      <td>u</td>\n",
       "      <td>&gt; 22.83</td>\n",
       "      <td>–</td>\n",
       "    </tr>\n",
       "    <tr>\n",
       "      <th>2</th>\n",
       "      <td>58727.204482</td>\n",
       "      <td>2.377</td>\n",
       "      <td>120 × 5</td>\n",
       "      <td>u</td>\n",
       "      <td>&gt; 23.28</td>\n",
       "      <td>–</td>\n",
       "    </tr>\n",
       "    <tr>\n",
       "      <th>3</th>\n",
       "      <td>58728.229954</td>\n",
       "      <td>3.400</td>\n",
       "      <td>120</td>\n",
       "      <td>u</td>\n",
       "      <td>&gt; 23.65</td>\n",
       "      <td>–</td>\n",
       "    </tr>\n",
       "    <tr>\n",
       "      <th>4</th>\n",
       "      <td>58729.203136</td>\n",
       "      <td>4.376</td>\n",
       "      <td>120 × 5</td>\n",
       "      <td>u</td>\n",
       "      <td>&gt; 23.64</td>\n",
       "      <td>–</td>\n",
       "    </tr>\n",
       "  </tbody>\n",
       "</table>\n",
       "</div>"
      ],
      "text/plain": [
       "     time [MJD]  phase [d] exp. time [s] filter mag [AB] error [AB]\n",
       "0  58725.195050      0.365           120      u    21.77       0.05\n",
       "1  58726.186209      1.381       120 × 4      u  > 22.83          –\n",
       "2  58727.204482      2.377       120 × 5      u  > 23.28          –\n",
       "3  58728.229954      3.400           120      u  > 23.65          –\n",
       "4  58729.203136      4.376       120 × 5      u  > 23.64          –"
      ]
     },
     "execution_count": 5,
     "metadata": {},
     "output_type": "execute_result"
    }
   ],
   "source": [
    "df.head()"
   ]
  },
  {
   "cell_type": "code",
   "execution_count": 6,
   "id": "2efe7ee6",
   "metadata": {},
   "outputs": [
    {
     "name": "stdout",
     "output_type": "stream",
     "text": [
      "Hi\n",
      "Hi\n",
      "Hi\n",
      "Hi\n"
     ]
    }
   ],
   "source": [
    "#drop the all nan rows\n",
    "df = df.dropna(how='all').reset_index(drop=True)\n",
    "\n",
    "#Check for upper limits: 0 for not a limit, -1 lower, 1 upper\n",
    "col = df['mag [AB]']\n",
    "limit = np.zeros(len(col))\n",
    "for i in range(len(col)):\n",
    "    if '>' in str(col[i]):\n",
    "        print('Hi')\n",
    "        limit[i] = -1\n",
    "        \n",
    "    elif '<' in str(col[i]):\n",
    "        limit[i] = 1\n",
    "\n",
    "df['limit'] = limit\n",
    "\n",
    "#Get rid of the limit < and >\n",
    "df['mag [AB]'] = df['mag [AB]'].str.replace('>', '')\n",
    "df['mag [AB]'] = df['mag [AB]'].str.replace('<', '')\n",
    "\n",
    "#Replace - with nan\n",
    "df['error [AB]'] = df['error [AB]'].str.replace('–', '')\n",
    "\n",
    "# #Split by ±\n",
    "# # df[['Flux (μJy beam^{-1})', 'dFlux (μJy beam^{-1})']] = df['Flux (μJy beam−1)'].str.split('±', expand=True)\n",
    "\n",
    "\n",
    "\n",
    "# #Convert to csv\n",
    "df.to_csv(name+\"/processed/\"+file+'.txt', index=False)"
   ]
  },
  {
   "cell_type": "code",
   "execution_count": null,
   "id": "0d64a244",
   "metadata": {},
   "outputs": [],
   "source": []
  }
 ],
 "metadata": {
  "kernelspec": {
   "display_name": "Python 3 (ipykernel)",
   "language": "python",
   "name": "python3"
  },
  "language_info": {
   "codemirror_mode": {
    "name": "ipython",
    "version": 3
   },
   "file_extension": ".py",
   "mimetype": "text/x-python",
   "name": "python",
   "nbconvert_exporter": "python",
   "pygments_lexer": "ipython3",
   "version": "3.8.10"
  }
 },
 "nbformat": 4,
 "nbformat_minor": 5
}
